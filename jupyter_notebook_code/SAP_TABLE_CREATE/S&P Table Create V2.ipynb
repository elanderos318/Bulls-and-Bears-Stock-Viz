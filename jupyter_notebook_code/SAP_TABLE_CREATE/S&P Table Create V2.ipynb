{
 "cells": [
  {
   "cell_type": "code",
   "execution_count": 1,
   "metadata": {},
   "outputs": [],
   "source": [
    "import pandas as pd"
   ]
  },
  {
   "cell_type": "code",
   "execution_count": 2,
   "metadata": {},
   "outputs": [],
   "source": [
    "from sqlalchemy import create_engine, func\n",
    "from sqlalchemy.ext.declarative import declarative_base\n",
    "from sqlalchemy import Column, Integer, String, Float, DateTime, Date, Time\n",
    "from sqlalchemy.orm import Session"
   ]
  },
  {
   "cell_type": "code",
   "execution_count": 3,
   "metadata": {},
   "outputs": [],
   "source": [
    "import datetime as dt"
   ]
  },
  {
   "cell_type": "code",
   "execution_count": 4,
   "metadata": {},
   "outputs": [],
   "source": [
    "# Sets an object to utilize the default declarative base in SQL Alchemy\n",
    "Base = declarative_base()"
   ]
  },
  {
   "cell_type": "code",
   "execution_count": 11,
   "metadata": {},
   "outputs": [
    {
     "name": "stderr",
     "output_type": "stream",
     "text": [
      "C:\\Users\\lande\\Anaconda3\\lib\\site-packages\\sqlalchemy\\ext\\declarative\\clsregistry.py:120: SAWarning: This declarative base already contains a class with the same class name and module name as __main__.SP_Data_V2, and will be replaced in the string-lookup table.\n",
      "  item.__name__\n"
     ]
    }
   ],
   "source": [
    "# Creates Classes which will serve as the anchor points for our Table\n",
    "class SP_Data_V2(Base):\n",
    "    __tablename__ = 'sp_data_v2'\n",
    "    id = Column(Integer, primary_key=True)\n",
    "    date = Column(Date)\n",
    "    open = Column(Float)\n",
    "    high = Column(Float)\n",
    "    low = Column(Float)\n",
    "    close = Column(Float)\n",
    "    adj_close = Column(Float)\n",
    "    volume = Column(Integer)"
   ]
  },
  {
   "cell_type": "code",
   "execution_count": 12,
   "metadata": {},
   "outputs": [],
   "source": [
    "# Create Database Connection\n",
    "engine = create_engine(\"sqlite:///../../db/bulls_bears.sqlite\")\n",
    "conn = engine.connect()"
   ]
  },
  {
   "cell_type": "code",
   "execution_count": 13,
   "metadata": {},
   "outputs": [],
   "source": [
    "# Create a \"Metadata\" Layer That Abstracts our SQL Database\n",
    "# ----------------------------------\n",
    "# Create (if not already in existence) the tables associated with our classes.\n",
    "Base.metadata.create_all(engine)"
   ]
  },
  {
   "cell_type": "code",
   "execution_count": 7,
   "metadata": {},
   "outputs": [],
   "source": [
    "# Use this to clear out the db\n",
    "# ----------------------------------\n",
    "Base.metadata.drop_all(engine)\n",
    "Base.metadata.clear()"
   ]
  },
  {
   "cell_type": "code",
   "execution_count": 14,
   "metadata": {},
   "outputs": [],
   "source": [
    "from sqlalchemy import inspect"
   ]
  },
  {
   "cell_type": "code",
   "execution_count": 15,
   "metadata": {},
   "outputs": [],
   "source": [
    "# Create the inspector and connect it to the engine\n",
    "inspector = inspect(engine)"
   ]
  },
  {
   "cell_type": "code",
   "execution_count": 16,
   "metadata": {},
   "outputs": [
    {
     "data": {
      "text/plain": [
       "['sp_data', 'sp_data_v2']"
      ]
     },
     "execution_count": 16,
     "metadata": {},
     "output_type": "execute_result"
    }
   ],
   "source": [
    "# Collect the names of tables within the database\n",
    "inspector.get_table_names()"
   ]
  },
  {
   "cell_type": "code",
   "execution_count": 17,
   "metadata": {},
   "outputs": [
    {
     "name": "stdout",
     "output_type": "stream",
     "text": [
      "id INTEGER\n",
      "date DATE\n",
      "open FLOAT\n",
      "high FLOAT\n",
      "low FLOAT\n",
      "close FLOAT\n",
      "adj_close FLOAT\n",
      "volume INTEGER\n"
     ]
    }
   ],
   "source": [
    "# Using the inspector to print the column names within the 'tweet_data' table and its types\n",
    "columns = inspector.get_columns('sp_data_v2')\n",
    "for column in columns:\n",
    "    print(column[\"name\"], column[\"type\"])"
   ]
  },
  {
   "cell_type": "code",
   "execution_count": 18,
   "metadata": {},
   "outputs": [],
   "source": [
    "data_file = \"../../datasets/SAP500_updated.csv\""
   ]
  },
  {
   "cell_type": "code",
   "execution_count": 19,
   "metadata": {},
   "outputs": [],
   "source": [
    "sp_df = pd.read_csv(data_file)"
   ]
  },
  {
   "cell_type": "code",
   "execution_count": 20,
   "metadata": {},
   "outputs": [
    {
     "data": {
      "text/html": [
       "<div>\n",
       "<style scoped>\n",
       "    .dataframe tbody tr th:only-of-type {\n",
       "        vertical-align: middle;\n",
       "    }\n",
       "\n",
       "    .dataframe tbody tr th {\n",
       "        vertical-align: top;\n",
       "    }\n",
       "\n",
       "    .dataframe thead th {\n",
       "        text-align: right;\n",
       "    }\n",
       "</style>\n",
       "<table border=\"1\" class=\"dataframe\">\n",
       "  <thead>\n",
       "    <tr style=\"text-align: right;\">\n",
       "      <th></th>\n",
       "      <th>Date</th>\n",
       "      <th>Open</th>\n",
       "      <th>High</th>\n",
       "      <th>Low</th>\n",
       "      <th>Close</th>\n",
       "      <th>Adj Close</th>\n",
       "      <th>Volume</th>\n",
       "    </tr>\n",
       "  </thead>\n",
       "  <tbody>\n",
       "    <tr>\n",
       "      <th>0</th>\n",
       "      <td>2017-01-03</td>\n",
       "      <td>2251.570068</td>\n",
       "      <td>2263.879883</td>\n",
       "      <td>2245.129883</td>\n",
       "      <td>2257.830078</td>\n",
       "      <td>2257.830078</td>\n",
       "      <td>3770530000</td>\n",
       "    </tr>\n",
       "    <tr>\n",
       "      <th>1</th>\n",
       "      <td>2017-01-04</td>\n",
       "      <td>2261.600098</td>\n",
       "      <td>2272.820068</td>\n",
       "      <td>2261.600098</td>\n",
       "      <td>2270.750000</td>\n",
       "      <td>2270.750000</td>\n",
       "      <td>3764890000</td>\n",
       "    </tr>\n",
       "    <tr>\n",
       "      <th>2</th>\n",
       "      <td>2017-01-05</td>\n",
       "      <td>2268.179932</td>\n",
       "      <td>2271.500000</td>\n",
       "      <td>2260.449951</td>\n",
       "      <td>2269.000000</td>\n",
       "      <td>2269.000000</td>\n",
       "      <td>3761820000</td>\n",
       "    </tr>\n",
       "    <tr>\n",
       "      <th>3</th>\n",
       "      <td>2017-01-06</td>\n",
       "      <td>2271.139893</td>\n",
       "      <td>2282.100098</td>\n",
       "      <td>2264.060059</td>\n",
       "      <td>2276.979980</td>\n",
       "      <td>2276.979980</td>\n",
       "      <td>3339890000</td>\n",
       "    </tr>\n",
       "    <tr>\n",
       "      <th>4</th>\n",
       "      <td>2017-01-09</td>\n",
       "      <td>2273.590088</td>\n",
       "      <td>2275.489990</td>\n",
       "      <td>2268.899902</td>\n",
       "      <td>2268.899902</td>\n",
       "      <td>2268.899902</td>\n",
       "      <td>3217610000</td>\n",
       "    </tr>\n",
       "  </tbody>\n",
       "</table>\n",
       "</div>"
      ],
      "text/plain": [
       "         Date         Open         High          Low        Close  \\\n",
       "0  2017-01-03  2251.570068  2263.879883  2245.129883  2257.830078   \n",
       "1  2017-01-04  2261.600098  2272.820068  2261.600098  2270.750000   \n",
       "2  2017-01-05  2268.179932  2271.500000  2260.449951  2269.000000   \n",
       "3  2017-01-06  2271.139893  2282.100098  2264.060059  2276.979980   \n",
       "4  2017-01-09  2273.590088  2275.489990  2268.899902  2268.899902   \n",
       "\n",
       "     Adj Close      Volume  \n",
       "0  2257.830078  3770530000  \n",
       "1  2270.750000  3764890000  \n",
       "2  2269.000000  3761820000  \n",
       "3  2276.979980  3339890000  \n",
       "4  2268.899902  3217610000  "
      ]
     },
     "execution_count": 20,
     "metadata": {},
     "output_type": "execute_result"
    }
   ],
   "source": [
    "sp_df.head()"
   ]
  },
  {
   "cell_type": "code",
   "execution_count": 21,
   "metadata": {},
   "outputs": [
    {
     "data": {
      "text/plain": [
       "Date          object\n",
       "Open         float64\n",
       "High         float64\n",
       "Low          float64\n",
       "Close        float64\n",
       "Adj Close    float64\n",
       "Volume         int64\n",
       "dtype: object"
      ]
     },
     "execution_count": 21,
     "metadata": {},
     "output_type": "execute_result"
    }
   ],
   "source": [
    "sp_df.dtypes"
   ]
  },
  {
   "cell_type": "code",
   "execution_count": 22,
   "metadata": {},
   "outputs": [],
   "source": [
    "sp_df[\"Date\"] = sp_df[\"Date\"].apply(lambda x: dt.datetime.strptime(x, \"%Y-%m-%d\").date())"
   ]
  },
  {
   "cell_type": "code",
   "execution_count": 23,
   "metadata": {},
   "outputs": [
    {
     "data": {
      "text/html": [
       "<div>\n",
       "<style scoped>\n",
       "    .dataframe tbody tr th:only-of-type {\n",
       "        vertical-align: middle;\n",
       "    }\n",
       "\n",
       "    .dataframe tbody tr th {\n",
       "        vertical-align: top;\n",
       "    }\n",
       "\n",
       "    .dataframe thead th {\n",
       "        text-align: right;\n",
       "    }\n",
       "</style>\n",
       "<table border=\"1\" class=\"dataframe\">\n",
       "  <thead>\n",
       "    <tr style=\"text-align: right;\">\n",
       "      <th></th>\n",
       "      <th>Date</th>\n",
       "      <th>Open</th>\n",
       "      <th>High</th>\n",
       "      <th>Low</th>\n",
       "      <th>Close</th>\n",
       "      <th>Adj Close</th>\n",
       "      <th>Volume</th>\n",
       "    </tr>\n",
       "  </thead>\n",
       "  <tbody>\n",
       "    <tr>\n",
       "      <th>0</th>\n",
       "      <td>2017-01-03</td>\n",
       "      <td>2251.570068</td>\n",
       "      <td>2263.879883</td>\n",
       "      <td>2245.129883</td>\n",
       "      <td>2257.830078</td>\n",
       "      <td>2257.830078</td>\n",
       "      <td>3770530000</td>\n",
       "    </tr>\n",
       "    <tr>\n",
       "      <th>1</th>\n",
       "      <td>2017-01-04</td>\n",
       "      <td>2261.600098</td>\n",
       "      <td>2272.820068</td>\n",
       "      <td>2261.600098</td>\n",
       "      <td>2270.750000</td>\n",
       "      <td>2270.750000</td>\n",
       "      <td>3764890000</td>\n",
       "    </tr>\n",
       "    <tr>\n",
       "      <th>2</th>\n",
       "      <td>2017-01-05</td>\n",
       "      <td>2268.179932</td>\n",
       "      <td>2271.500000</td>\n",
       "      <td>2260.449951</td>\n",
       "      <td>2269.000000</td>\n",
       "      <td>2269.000000</td>\n",
       "      <td>3761820000</td>\n",
       "    </tr>\n",
       "    <tr>\n",
       "      <th>3</th>\n",
       "      <td>2017-01-06</td>\n",
       "      <td>2271.139893</td>\n",
       "      <td>2282.100098</td>\n",
       "      <td>2264.060059</td>\n",
       "      <td>2276.979980</td>\n",
       "      <td>2276.979980</td>\n",
       "      <td>3339890000</td>\n",
       "    </tr>\n",
       "    <tr>\n",
       "      <th>4</th>\n",
       "      <td>2017-01-09</td>\n",
       "      <td>2273.590088</td>\n",
       "      <td>2275.489990</td>\n",
       "      <td>2268.899902</td>\n",
       "      <td>2268.899902</td>\n",
       "      <td>2268.899902</td>\n",
       "      <td>3217610000</td>\n",
       "    </tr>\n",
       "  </tbody>\n",
       "</table>\n",
       "</div>"
      ],
      "text/plain": [
       "         Date         Open         High          Low        Close  \\\n",
       "0  2017-01-03  2251.570068  2263.879883  2245.129883  2257.830078   \n",
       "1  2017-01-04  2261.600098  2272.820068  2261.600098  2270.750000   \n",
       "2  2017-01-05  2268.179932  2271.500000  2260.449951  2269.000000   \n",
       "3  2017-01-06  2271.139893  2282.100098  2264.060059  2276.979980   \n",
       "4  2017-01-09  2273.590088  2275.489990  2268.899902  2268.899902   \n",
       "\n",
       "     Adj Close      Volume  \n",
       "0  2257.830078  3770530000  \n",
       "1  2270.750000  3764890000  \n",
       "2  2269.000000  3761820000  \n",
       "3  2276.979980  3339890000  \n",
       "4  2268.899902  3217610000  "
      ]
     },
     "execution_count": 23,
     "metadata": {},
     "output_type": "execute_result"
    }
   ],
   "source": [
    "sp_df.head()"
   ]
  },
  {
   "cell_type": "code",
   "execution_count": 24,
   "metadata": {},
   "outputs": [
    {
     "data": {
      "text/plain": [
       "Date          object\n",
       "Open         float64\n",
       "High         float64\n",
       "Low          float64\n",
       "Close        float64\n",
       "Adj Close    float64\n",
       "Volume         int64\n",
       "dtype: object"
      ]
     },
     "execution_count": 24,
     "metadata": {},
     "output_type": "execute_result"
    }
   ],
   "source": [
    "sp_df.dtypes"
   ]
  },
  {
   "cell_type": "code",
   "execution_count": 25,
   "metadata": {},
   "outputs": [],
   "source": [
    "sp_df = sp_df.rename(columns={\"Date\": \"date\", \"Open\": \"open\", \"High\": \"high\",\n",
    "                              \"Low\": \"low\", \"Close\": \"close\",\n",
    "                              \"Adj Close\": \"adj_close\", \"Volume\": \"volume\"})"
   ]
  },
  {
   "cell_type": "code",
   "execution_count": 26,
   "metadata": {},
   "outputs": [],
   "source": [
    "#Export data to sqlite\n",
    "sp_df.to_sql('sp_data_v2', con=engine, if_exists = 'append', index = True, index_label = 'id')"
   ]
  },
  {
   "cell_type": "code",
   "execution_count": 27,
   "metadata": {},
   "outputs": [
    {
     "data": {
      "text/plain": [
       "[(0, '2017-01-03', 2251.570068, 2263.8798829999996, 2245.1298829999996, 2257.830078, 2257.830078, 3770530000),\n",
       " (1, '2017-01-04', 2261.600098, 2272.820068, 2261.600098, 2270.75, 2270.75, 3764890000),\n",
       " (2, '2017-01-05', 2268.179932, 2271.5, 2260.449951, 2269.0, 2269.0, 3761820000),\n",
       " (3, '2017-01-06', 2271.139893, 2282.100098, 2264.060059, 2276.97998, 2276.97998, 3339890000),\n",
       " (4, '2017-01-09', 2273.590088, 2275.48999, 2268.899902, 2268.899902, 2268.899902, 3217610000),\n",
       " (5, '2017-01-10', 2269.719971, 2279.27002, 2265.27002, 2268.899902, 2268.899902, 3638790000),\n",
       " (6, '2017-01-11', 2268.600098, 2275.320068, 2260.830078, 2275.320068, 2275.320068, 3620410000),\n",
       " (7, '2017-01-12', 2271.139893, 2271.780029, 2254.25, 2270.439941, 2270.439941, 3462130000),\n",
       " (8, '2017-01-13', 2272.73999, 2278.679932, 2271.51001, 2274.639893, 2274.639893, 3081270000),\n",
       " (9, '2017-01-17', 2269.139893, 2272.080078, 2262.810059, 2267.889893, 2267.889893, 3584990000),\n",
       " (10, '2017-01-18', 2269.139893, 2272.01001, 2263.350098, 2271.889893, 2271.889893, 3315250000),\n",
       " (11, '2017-01-19', 2271.899902, 2274.330078, 2258.409912, 2263.689941, 2263.689941, 3165970000),\n",
       " (12, '2017-01-20', 2269.959961, 2276.959961, 2265.01001, 2271.310059, 2271.310059, 3524970000),\n",
       " (13, '2017-01-23', 2267.780029, 2271.780029, 2257.02002, 2265.199951, 2265.199951, 3152710000),\n",
       " (14, '2017-01-24', 2267.8798829999996, 2284.6298829999996, 2266.679932, 2280.070068, 2280.070068, 3810960000)]"
      ]
     },
     "execution_count": 27,
     "metadata": {},
     "output_type": "execute_result"
    }
   ],
   "source": [
    "engine.execute(\"SELECT * FROM sp_data_v2 LIMIT 15\").fetchall()"
   ]
  },
  {
   "cell_type": "code",
   "execution_count": 28,
   "metadata": {},
   "outputs": [
    {
     "data": {
      "text/html": [
       "<div>\n",
       "<style scoped>\n",
       "    .dataframe tbody tr th:only-of-type {\n",
       "        vertical-align: middle;\n",
       "    }\n",
       "\n",
       "    .dataframe tbody tr th {\n",
       "        vertical-align: top;\n",
       "    }\n",
       "\n",
       "    .dataframe thead th {\n",
       "        text-align: right;\n",
       "    }\n",
       "</style>\n",
       "<table border=\"1\" class=\"dataframe\">\n",
       "  <thead>\n",
       "    <tr style=\"text-align: right;\">\n",
       "      <th></th>\n",
       "      <th>id</th>\n",
       "      <th>date</th>\n",
       "      <th>open</th>\n",
       "      <th>high</th>\n",
       "      <th>low</th>\n",
       "      <th>close</th>\n",
       "      <th>adj_close</th>\n",
       "      <th>volume</th>\n",
       "    </tr>\n",
       "  </thead>\n",
       "  <tbody>\n",
       "    <tr>\n",
       "      <th>0</th>\n",
       "      <td>900</td>\n",
       "      <td>2020-07-31</td>\n",
       "      <td>3270.449951</td>\n",
       "      <td>3272.169922</td>\n",
       "      <td>3220.260010</td>\n",
       "      <td>3271.120117</td>\n",
       "      <td>3271.120117</td>\n",
       "      <td>5117260000</td>\n",
       "    </tr>\n",
       "    <tr>\n",
       "      <th>1</th>\n",
       "      <td>899</td>\n",
       "      <td>2020-07-30</td>\n",
       "      <td>3231.760010</td>\n",
       "      <td>3250.919922</td>\n",
       "      <td>3204.129883</td>\n",
       "      <td>3246.219971</td>\n",
       "      <td>3246.219971</td>\n",
       "      <td>4254010000</td>\n",
       "    </tr>\n",
       "    <tr>\n",
       "      <th>2</th>\n",
       "      <td>898</td>\n",
       "      <td>2020-07-29</td>\n",
       "      <td>3227.219971</td>\n",
       "      <td>3264.739990</td>\n",
       "      <td>3227.219971</td>\n",
       "      <td>3258.439941</td>\n",
       "      <td>3258.439941</td>\n",
       "      <td>4676300000</td>\n",
       "    </tr>\n",
       "    <tr>\n",
       "      <th>3</th>\n",
       "      <td>897</td>\n",
       "      <td>2020-07-28</td>\n",
       "      <td>3234.270020</td>\n",
       "      <td>3243.719971</td>\n",
       "      <td>3216.169922</td>\n",
       "      <td>3218.439941</td>\n",
       "      <td>3218.439941</td>\n",
       "      <td>4027890000</td>\n",
       "    </tr>\n",
       "    <tr>\n",
       "      <th>4</th>\n",
       "      <td>896</td>\n",
       "      <td>2020-07-27</td>\n",
       "      <td>3219.840088</td>\n",
       "      <td>3241.429932</td>\n",
       "      <td>3214.250000</td>\n",
       "      <td>3239.409912</td>\n",
       "      <td>3239.409912</td>\n",
       "      <td>3963910000</td>\n",
       "    </tr>\n",
       "    <tr>\n",
       "      <th>5</th>\n",
       "      <td>895</td>\n",
       "      <td>2020-07-24</td>\n",
       "      <td>3218.580078</td>\n",
       "      <td>3227.260010</td>\n",
       "      <td>3200.050049</td>\n",
       "      <td>3215.629883</td>\n",
       "      <td>3215.629883</td>\n",
       "      <td>3894900000</td>\n",
       "    </tr>\n",
       "    <tr>\n",
       "      <th>6</th>\n",
       "      <td>894</td>\n",
       "      <td>2020-07-23</td>\n",
       "      <td>3271.639893</td>\n",
       "      <td>3279.989990</td>\n",
       "      <td>3222.659912</td>\n",
       "      <td>3235.659912</td>\n",
       "      <td>3235.659912</td>\n",
       "      <td>4290460000</td>\n",
       "    </tr>\n",
       "    <tr>\n",
       "      <th>7</th>\n",
       "      <td>893</td>\n",
       "      <td>2020-07-22</td>\n",
       "      <td>3254.860107</td>\n",
       "      <td>3279.320068</td>\n",
       "      <td>3253.100098</td>\n",
       "      <td>3276.020020</td>\n",
       "      <td>3276.020020</td>\n",
       "      <td>4255190000</td>\n",
       "    </tr>\n",
       "    <tr>\n",
       "      <th>8</th>\n",
       "      <td>892</td>\n",
       "      <td>2020-07-21</td>\n",
       "      <td>3268.520020</td>\n",
       "      <td>3277.290039</td>\n",
       "      <td>3247.770020</td>\n",
       "      <td>3257.300049</td>\n",
       "      <td>3257.300049</td>\n",
       "      <td>4547960000</td>\n",
       "    </tr>\n",
       "    <tr>\n",
       "      <th>9</th>\n",
       "      <td>891</td>\n",
       "      <td>2020-07-20</td>\n",
       "      <td>3224.290039</td>\n",
       "      <td>3258.610107</td>\n",
       "      <td>3215.159912</td>\n",
       "      <td>3251.840088</td>\n",
       "      <td>3251.840088</td>\n",
       "      <td>3971200000</td>\n",
       "    </tr>\n",
       "    <tr>\n",
       "      <th>10</th>\n",
       "      <td>890</td>\n",
       "      <td>2020-07-17</td>\n",
       "      <td>3224.209961</td>\n",
       "      <td>3233.520020</td>\n",
       "      <td>3205.649902</td>\n",
       "      <td>3224.729980</td>\n",
       "      <td>3224.729980</td>\n",
       "      <td>3993830000</td>\n",
       "    </tr>\n",
       "    <tr>\n",
       "      <th>11</th>\n",
       "      <td>889</td>\n",
       "      <td>2020-07-16</td>\n",
       "      <td>3208.360107</td>\n",
       "      <td>3220.389893</td>\n",
       "      <td>3198.590088</td>\n",
       "      <td>3215.570068</td>\n",
       "      <td>3215.570068</td>\n",
       "      <td>3961230000</td>\n",
       "    </tr>\n",
       "    <tr>\n",
       "      <th>12</th>\n",
       "      <td>888</td>\n",
       "      <td>2020-07-15</td>\n",
       "      <td>3225.979980</td>\n",
       "      <td>3238.280029</td>\n",
       "      <td>3200.760010</td>\n",
       "      <td>3226.560059</td>\n",
       "      <td>3226.560059</td>\n",
       "      <td>4669760000</td>\n",
       "    </tr>\n",
       "    <tr>\n",
       "      <th>13</th>\n",
       "      <td>887</td>\n",
       "      <td>2020-07-14</td>\n",
       "      <td>3141.110107</td>\n",
       "      <td>3200.949951</td>\n",
       "      <td>3127.659912</td>\n",
       "      <td>3197.520020</td>\n",
       "      <td>3197.520020</td>\n",
       "      <td>4476170000</td>\n",
       "    </tr>\n",
       "    <tr>\n",
       "      <th>14</th>\n",
       "      <td>886</td>\n",
       "      <td>2020-07-13</td>\n",
       "      <td>3205.080078</td>\n",
       "      <td>3235.320068</td>\n",
       "      <td>3149.429932</td>\n",
       "      <td>3155.219971</td>\n",
       "      <td>3155.219971</td>\n",
       "      <td>4890780000</td>\n",
       "    </tr>\n",
       "  </tbody>\n",
       "</table>\n",
       "</div>"
      ],
      "text/plain": [
       "     id        date         open         high          low        close  \\\n",
       "0   900  2020-07-31  3270.449951  3272.169922  3220.260010  3271.120117   \n",
       "1   899  2020-07-30  3231.760010  3250.919922  3204.129883  3246.219971   \n",
       "2   898  2020-07-29  3227.219971  3264.739990  3227.219971  3258.439941   \n",
       "3   897  2020-07-28  3234.270020  3243.719971  3216.169922  3218.439941   \n",
       "4   896  2020-07-27  3219.840088  3241.429932  3214.250000  3239.409912   \n",
       "5   895  2020-07-24  3218.580078  3227.260010  3200.050049  3215.629883   \n",
       "6   894  2020-07-23  3271.639893  3279.989990  3222.659912  3235.659912   \n",
       "7   893  2020-07-22  3254.860107  3279.320068  3253.100098  3276.020020   \n",
       "8   892  2020-07-21  3268.520020  3277.290039  3247.770020  3257.300049   \n",
       "9   891  2020-07-20  3224.290039  3258.610107  3215.159912  3251.840088   \n",
       "10  890  2020-07-17  3224.209961  3233.520020  3205.649902  3224.729980   \n",
       "11  889  2020-07-16  3208.360107  3220.389893  3198.590088  3215.570068   \n",
       "12  888  2020-07-15  3225.979980  3238.280029  3200.760010  3226.560059   \n",
       "13  887  2020-07-14  3141.110107  3200.949951  3127.659912  3197.520020   \n",
       "14  886  2020-07-13  3205.080078  3235.320068  3149.429932  3155.219971   \n",
       "\n",
       "      adj_close      volume  \n",
       "0   3271.120117  5117260000  \n",
       "1   3246.219971  4254010000  \n",
       "2   3258.439941  4676300000  \n",
       "3   3218.439941  4027890000  \n",
       "4   3239.409912  3963910000  \n",
       "5   3215.629883  3894900000  \n",
       "6   3235.659912  4290460000  \n",
       "7   3276.020020  4255190000  \n",
       "8   3257.300049  4547960000  \n",
       "9   3251.840088  3971200000  \n",
       "10  3224.729980  3993830000  \n",
       "11  3215.570068  3961230000  \n",
       "12  3226.560059  4669760000  \n",
       "13  3197.520020  4476170000  \n",
       "14  3155.219971  4890780000  "
      ]
     },
     "execution_count": 28,
     "metadata": {},
     "output_type": "execute_result"
    }
   ],
   "source": [
    "pd.read_sql(\"SELECT * FROM sp_data_v2 ORDER BY date DESC LIMIT 15\", con = conn).reset_index(drop = True)"
   ]
  },
  {
   "cell_type": "code",
   "execution_count": 29,
   "metadata": {},
   "outputs": [],
   "source": [
    "session = Session(engine)"
   ]
  },
  {
   "cell_type": "code",
   "execution_count": 30,
   "metadata": {},
   "outputs": [
    {
     "data": {
      "text/plain": [
       "[(datetime.date(2020, 7, 31))]"
      ]
     },
     "execution_count": 30,
     "metadata": {},
     "output_type": "execute_result"
    }
   ],
   "source": [
    "session.query(func.max(SP_Data_V2.date)).all()"
   ]
  },
  {
   "cell_type": "code",
   "execution_count": 31,
   "metadata": {},
   "outputs": [
    {
     "data": {
      "text/plain": [
       "[(datetime.date(2017, 1, 3))]"
      ]
     },
     "execution_count": 31,
     "metadata": {},
     "output_type": "execute_result"
    }
   ],
   "source": [
    "session.query(func.min(SP_Data_V2.date)).all()"
   ]
  },
  {
   "cell_type": "code",
   "execution_count": null,
   "metadata": {},
   "outputs": [],
   "source": []
  }
 ],
 "metadata": {
  "kernelspec": {
   "display_name": "Python 3",
   "language": "python",
   "name": "python3"
  },
  "language_info": {
   "codemirror_mode": {
    "name": "ipython",
    "version": 3
   },
   "file_extension": ".py",
   "mimetype": "text/x-python",
   "name": "python",
   "nbconvert_exporter": "python",
   "pygments_lexer": "ipython3",
   "version": "3.7.1"
  }
 },
 "nbformat": 4,
 "nbformat_minor": 2
}
