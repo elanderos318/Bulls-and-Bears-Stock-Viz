{
 "cells": [
  {
   "cell_type": "code",
   "execution_count": 1,
   "metadata": {},
   "outputs": [],
   "source": [
    "import pandas as pd"
   ]
  },
  {
   "cell_type": "code",
   "execution_count": 2,
   "metadata": {},
   "outputs": [],
   "source": [
    "from sqlalchemy import create_engine, func\n",
    "from sqlalchemy.ext.declarative import declarative_base\n",
    "from sqlalchemy import Column, Integer, String, Float, DateTime, Date, Time\n",
    "from sqlalchemy.orm import Session"
   ]
  },
  {
   "cell_type": "code",
   "execution_count": 3,
   "metadata": {},
   "outputs": [],
   "source": [
    "import datetime as dt"
   ]
  },
  {
   "cell_type": "code",
   "execution_count": 102,
   "metadata": {},
   "outputs": [],
   "source": [
    "# Sets an object to utilize the default declarative base in SQL Alchemy\n",
    "Base = declarative_base()"
   ]
  },
  {
   "cell_type": "code",
   "execution_count": 103,
   "metadata": {},
   "outputs": [],
   "source": [
    "# Creates Classes which will serve as the anchor points for our Table\n",
    "class SP_Data_V2(Base):\n",
    "    __tablename__ = 'sp_data_v2'\n",
    "    id = Column(Integer, primary_key=True)\n",
    "    date = Column(Date)\n",
    "    open = Column(Float)\n",
    "    high = Column(Float)\n",
    "    low = Column(Float)\n",
    "    close = Column(Float)\n",
    "    adj_close = Column(Float)\n",
    "    volume = Column(Integer)"
   ]
  },
  {
   "cell_type": "code",
   "execution_count": 104,
   "metadata": {},
   "outputs": [],
   "source": [
    "# Create Database Connection\n",
    "engine = create_engine(\"sqlite:///../../db/bulls_bears.sqlite\")\n",
    "conn = engine.connect()"
   ]
  },
  {
   "cell_type": "code",
   "execution_count": 105,
   "metadata": {},
   "outputs": [],
   "source": [
    "# Create a \"Metadata\" Layer That Abstracts our SQL Database\n",
    "# ----------------------------------\n",
    "# Create (if not already in existence) the tables associated with our classes.\n",
    "Base.metadata.create_all(engine)"
   ]
  },
  {
   "cell_type": "code",
   "execution_count": 98,
   "metadata": {},
   "outputs": [],
   "source": [
    "# Use this to clear out the db\n",
    "# ----------------------------------\n",
    "Base.metadata.drop_all(engine)\n",
    "Base.metadata.clear()"
   ]
  },
  {
   "cell_type": "code",
   "execution_count": 99,
   "metadata": {},
   "outputs": [],
   "source": [
    "from sqlalchemy import inspect"
   ]
  },
  {
   "cell_type": "code",
   "execution_count": 120,
   "metadata": {},
   "outputs": [],
   "source": [
    "# Create the inspector and connect it to the engine\n",
    "inspector = inspect(engine)"
   ]
  },
  {
   "cell_type": "code",
   "execution_count": 121,
   "metadata": {},
   "outputs": [
    {
     "data": {
      "text/plain": [
       "['sp_data', 'sp_data_v2']"
      ]
     },
     "execution_count": 121,
     "metadata": {},
     "output_type": "execute_result"
    }
   ],
   "source": [
    "# Collect the names of tables within the database\n",
    "inspector.get_table_names()"
   ]
  },
  {
   "cell_type": "code",
   "execution_count": 122,
   "metadata": {},
   "outputs": [
    {
     "name": "stdout",
     "output_type": "stream",
     "text": [
      "id INTEGER\n",
      "date DATE\n",
      "open FLOAT\n",
      "high FLOAT\n",
      "low FLOAT\n",
      "close FLOAT\n",
      "adj_close FLOAT\n",
      "volume INTEGER\n"
     ]
    }
   ],
   "source": [
    "# Using the inspector to print the column names within the 'tweet_data' table and its types\n",
    "columns = inspector.get_columns('sp_data_v2')\n",
    "for column in columns:\n",
    "    print(column[\"name\"], column[\"type\"])"
   ]
  },
  {
   "cell_type": "code",
   "execution_count": 109,
   "metadata": {},
   "outputs": [],
   "source": [
    "data_file = \"../../datasets/SAP500_updated.csv\""
   ]
  },
  {
   "cell_type": "code",
   "execution_count": 110,
   "metadata": {},
   "outputs": [],
   "source": [
    "sp_df = pd.read_csv(data_file)"
   ]
  },
  {
   "cell_type": "code",
   "execution_count": 111,
   "metadata": {},
   "outputs": [
    {
     "data": {
      "text/html": [
       "<div>\n",
       "<style scoped>\n",
       "    .dataframe tbody tr th:only-of-type {\n",
       "        vertical-align: middle;\n",
       "    }\n",
       "\n",
       "    .dataframe tbody tr th {\n",
       "        vertical-align: top;\n",
       "    }\n",
       "\n",
       "    .dataframe thead th {\n",
       "        text-align: right;\n",
       "    }\n",
       "</style>\n",
       "<table border=\"1\" class=\"dataframe\">\n",
       "  <thead>\n",
       "    <tr style=\"text-align: right;\">\n",
       "      <th></th>\n",
       "      <th>Date</th>\n",
       "      <th>Open</th>\n",
       "      <th>High</th>\n",
       "      <th>Low</th>\n",
       "      <th>Close</th>\n",
       "      <th>Adj Close</th>\n",
       "      <th>Volume</th>\n",
       "    </tr>\n",
       "  </thead>\n",
       "  <tbody>\n",
       "    <tr>\n",
       "      <th>0</th>\n",
       "      <td>2000-01-03</td>\n",
       "      <td>1469.250000</td>\n",
       "      <td>1478.000000</td>\n",
       "      <td>1438.359985</td>\n",
       "      <td>1455.219971</td>\n",
       "      <td>1455.219971</td>\n",
       "      <td>931800000</td>\n",
       "    </tr>\n",
       "    <tr>\n",
       "      <th>1</th>\n",
       "      <td>2000-01-04</td>\n",
       "      <td>1455.219971</td>\n",
       "      <td>1455.219971</td>\n",
       "      <td>1397.430054</td>\n",
       "      <td>1399.420044</td>\n",
       "      <td>1399.420044</td>\n",
       "      <td>1009000000</td>\n",
       "    </tr>\n",
       "    <tr>\n",
       "      <th>2</th>\n",
       "      <td>2000-01-05</td>\n",
       "      <td>1399.420044</td>\n",
       "      <td>1413.270020</td>\n",
       "      <td>1377.680054</td>\n",
       "      <td>1402.109985</td>\n",
       "      <td>1402.109985</td>\n",
       "      <td>1085500000</td>\n",
       "    </tr>\n",
       "    <tr>\n",
       "      <th>3</th>\n",
       "      <td>2000-01-06</td>\n",
       "      <td>1402.109985</td>\n",
       "      <td>1411.900024</td>\n",
       "      <td>1392.099976</td>\n",
       "      <td>1403.449951</td>\n",
       "      <td>1403.449951</td>\n",
       "      <td>1092300000</td>\n",
       "    </tr>\n",
       "    <tr>\n",
       "      <th>4</th>\n",
       "      <td>2000-01-07</td>\n",
       "      <td>1403.449951</td>\n",
       "      <td>1441.469971</td>\n",
       "      <td>1400.729980</td>\n",
       "      <td>1441.469971</td>\n",
       "      <td>1441.469971</td>\n",
       "      <td>1225200000</td>\n",
       "    </tr>\n",
       "  </tbody>\n",
       "</table>\n",
       "</div>"
      ],
      "text/plain": [
       "         Date         Open         High          Low        Close  \\\n",
       "0  2000-01-03  1469.250000  1478.000000  1438.359985  1455.219971   \n",
       "1  2000-01-04  1455.219971  1455.219971  1397.430054  1399.420044   \n",
       "2  2000-01-05  1399.420044  1413.270020  1377.680054  1402.109985   \n",
       "3  2000-01-06  1402.109985  1411.900024  1392.099976  1403.449951   \n",
       "4  2000-01-07  1403.449951  1441.469971  1400.729980  1441.469971   \n",
       "\n",
       "     Adj Close      Volume  \n",
       "0  1455.219971   931800000  \n",
       "1  1399.420044  1009000000  \n",
       "2  1402.109985  1085500000  \n",
       "3  1403.449951  1092300000  \n",
       "4  1441.469971  1225200000  "
      ]
     },
     "execution_count": 111,
     "metadata": {},
     "output_type": "execute_result"
    }
   ],
   "source": [
    "sp_df.head()"
   ]
  },
  {
   "cell_type": "code",
   "execution_count": 112,
   "metadata": {},
   "outputs": [
    {
     "data": {
      "text/plain": [
       "Date          object\n",
       "Open         float64\n",
       "High         float64\n",
       "Low          float64\n",
       "Close        float64\n",
       "Adj Close    float64\n",
       "Volume         int64\n",
       "dtype: object"
      ]
     },
     "execution_count": 112,
     "metadata": {},
     "output_type": "execute_result"
    }
   ],
   "source": [
    "sp_df.dtypes"
   ]
  },
  {
   "cell_type": "code",
   "execution_count": 113,
   "metadata": {},
   "outputs": [],
   "source": [
    "sp_df[\"Date\"] = sp_df[\"Date\"].apply(lambda x: dt.datetime.strptime(x, \"%Y-%m-%d\").date())"
   ]
  },
  {
   "cell_type": "code",
   "execution_count": 114,
   "metadata": {},
   "outputs": [
    {
     "data": {
      "text/html": [
       "<div>\n",
       "<style scoped>\n",
       "    .dataframe tbody tr th:only-of-type {\n",
       "        vertical-align: middle;\n",
       "    }\n",
       "\n",
       "    .dataframe tbody tr th {\n",
       "        vertical-align: top;\n",
       "    }\n",
       "\n",
       "    .dataframe thead th {\n",
       "        text-align: right;\n",
       "    }\n",
       "</style>\n",
       "<table border=\"1\" class=\"dataframe\">\n",
       "  <thead>\n",
       "    <tr style=\"text-align: right;\">\n",
       "      <th></th>\n",
       "      <th>Date</th>\n",
       "      <th>Open</th>\n",
       "      <th>High</th>\n",
       "      <th>Low</th>\n",
       "      <th>Close</th>\n",
       "      <th>Adj Close</th>\n",
       "      <th>Volume</th>\n",
       "    </tr>\n",
       "  </thead>\n",
       "  <tbody>\n",
       "    <tr>\n",
       "      <th>0</th>\n",
       "      <td>2000-01-03</td>\n",
       "      <td>1469.250000</td>\n",
       "      <td>1478.000000</td>\n",
       "      <td>1438.359985</td>\n",
       "      <td>1455.219971</td>\n",
       "      <td>1455.219971</td>\n",
       "      <td>931800000</td>\n",
       "    </tr>\n",
       "    <tr>\n",
       "      <th>1</th>\n",
       "      <td>2000-01-04</td>\n",
       "      <td>1455.219971</td>\n",
       "      <td>1455.219971</td>\n",
       "      <td>1397.430054</td>\n",
       "      <td>1399.420044</td>\n",
       "      <td>1399.420044</td>\n",
       "      <td>1009000000</td>\n",
       "    </tr>\n",
       "    <tr>\n",
       "      <th>2</th>\n",
       "      <td>2000-01-05</td>\n",
       "      <td>1399.420044</td>\n",
       "      <td>1413.270020</td>\n",
       "      <td>1377.680054</td>\n",
       "      <td>1402.109985</td>\n",
       "      <td>1402.109985</td>\n",
       "      <td>1085500000</td>\n",
       "    </tr>\n",
       "    <tr>\n",
       "      <th>3</th>\n",
       "      <td>2000-01-06</td>\n",
       "      <td>1402.109985</td>\n",
       "      <td>1411.900024</td>\n",
       "      <td>1392.099976</td>\n",
       "      <td>1403.449951</td>\n",
       "      <td>1403.449951</td>\n",
       "      <td>1092300000</td>\n",
       "    </tr>\n",
       "    <tr>\n",
       "      <th>4</th>\n",
       "      <td>2000-01-07</td>\n",
       "      <td>1403.449951</td>\n",
       "      <td>1441.469971</td>\n",
       "      <td>1400.729980</td>\n",
       "      <td>1441.469971</td>\n",
       "      <td>1441.469971</td>\n",
       "      <td>1225200000</td>\n",
       "    </tr>\n",
       "  </tbody>\n",
       "</table>\n",
       "</div>"
      ],
      "text/plain": [
       "         Date         Open         High          Low        Close  \\\n",
       "0  2000-01-03  1469.250000  1478.000000  1438.359985  1455.219971   \n",
       "1  2000-01-04  1455.219971  1455.219971  1397.430054  1399.420044   \n",
       "2  2000-01-05  1399.420044  1413.270020  1377.680054  1402.109985   \n",
       "3  2000-01-06  1402.109985  1411.900024  1392.099976  1403.449951   \n",
       "4  2000-01-07  1403.449951  1441.469971  1400.729980  1441.469971   \n",
       "\n",
       "     Adj Close      Volume  \n",
       "0  1455.219971   931800000  \n",
       "1  1399.420044  1009000000  \n",
       "2  1402.109985  1085500000  \n",
       "3  1403.449951  1092300000  \n",
       "4  1441.469971  1225200000  "
      ]
     },
     "execution_count": 114,
     "metadata": {},
     "output_type": "execute_result"
    }
   ],
   "source": [
    "sp_df.head()"
   ]
  },
  {
   "cell_type": "code",
   "execution_count": 115,
   "metadata": {},
   "outputs": [
    {
     "data": {
      "text/plain": [
       "Date          object\n",
       "Open         float64\n",
       "High         float64\n",
       "Low          float64\n",
       "Close        float64\n",
       "Adj Close    float64\n",
       "Volume         int64\n",
       "dtype: object"
      ]
     },
     "execution_count": 115,
     "metadata": {},
     "output_type": "execute_result"
    }
   ],
   "source": [
    "sp_df.dtypes"
   ]
  },
  {
   "cell_type": "code",
   "execution_count": 116,
   "metadata": {},
   "outputs": [],
   "source": [
    "sp_df = sp_df.rename(columns={\"Date\": \"date\", \"Open\": \"open\", \"High\": \"high\",\n",
    "                              \"Low\": \"low\", \"Close\": \"close\",\n",
    "                              \"Adj Close\": \"adj_close\", \"Volume\": \"volume\"})"
   ]
  },
  {
   "cell_type": "code",
   "execution_count": 117,
   "metadata": {},
   "outputs": [],
   "source": [
    "#Export data to sqlite\n",
    "sp_df.to_sql('sp_data_v2', con=engine, if_exists = 'append', index = True, index_label = 'id')"
   ]
  },
  {
   "cell_type": "code",
   "execution_count": 118,
   "metadata": {},
   "outputs": [
    {
     "data": {
      "text/plain": [
       "[(0, '2000-01-03', 1469.25, 1478.0, 1438.359985, 1455.219971, 1455.219971, 931800000),\n",
       " (1, '2000-01-04', 1455.219971, 1455.219971, 1397.430054, 1399.420044, 1399.420044, 1009000000),\n",
       " (2, '2000-01-05', 1399.420044, 1413.27002, 1377.680054, 1402.109985, 1402.109985, 1085500000),\n",
       " (3, '2000-01-06', 1402.109985, 1411.900024, 1392.099976, 1403.449951, 1403.449951, 1092300000),\n",
       " (4, '2000-01-07', 1403.449951, 1441.469971, 1400.72998, 1441.469971, 1441.469971, 1225200000),\n",
       " (5, '2000-01-10', 1441.469971, 1464.359985, 1441.469971, 1457.599976, 1457.599976, 1064800000),\n",
       " (6, '2000-01-11', 1457.599976, 1458.660034, 1434.420044, 1438.560059, 1438.560059, 1014000000),\n",
       " (7, '2000-01-12', 1438.560059, 1442.599976, 1427.079956, 1432.25, 1432.25, 974600000),\n",
       " (8, '2000-01-13', 1432.25, 1454.199951, 1432.25, 1449.680054, 1449.680054, 1030400000),\n",
       " (9, '2000-01-14', 1449.680054, 1473.0, 1449.680054, 1465.150024, 1465.150024, 1085900000),\n",
       " (10, '2000-01-18', 1465.150024, 1465.150024, 1451.300049, 1455.140015, 1455.140015, 1056700000),\n",
       " (11, '2000-01-19', 1455.140015, 1461.390015, 1448.680054, 1455.900024, 1455.900024, 1087800000),\n",
       " (12, '2000-01-20', 1455.900024, 1465.709961, 1438.540039, 1445.569946, 1445.569946, 1100700000),\n",
       " (13, '2000-01-21', 1445.569946, 1453.180054, 1439.599976, 1441.359985, 1441.359985, 1209800000),\n",
       " (14, '2000-01-24', 1441.359985, 1454.089966, 1395.420044, 1401.530029, 1401.530029, 1115800000)]"
      ]
     },
     "execution_count": 118,
     "metadata": {},
     "output_type": "execute_result"
    }
   ],
   "source": [
    "engine.execute(\"SELECT * FROM sp_data_v2 LIMIT 15\").fetchall()"
   ]
  },
  {
   "cell_type": "code",
   "execution_count": 119,
   "metadata": {},
   "outputs": [
    {
     "data": {
      "text/html": [
       "<div>\n",
       "<style scoped>\n",
       "    .dataframe tbody tr th:only-of-type {\n",
       "        vertical-align: middle;\n",
       "    }\n",
       "\n",
       "    .dataframe tbody tr th {\n",
       "        vertical-align: top;\n",
       "    }\n",
       "\n",
       "    .dataframe thead th {\n",
       "        text-align: right;\n",
       "    }\n",
       "</style>\n",
       "<table border=\"1\" class=\"dataframe\">\n",
       "  <thead>\n",
       "    <tr style=\"text-align: right;\">\n",
       "      <th></th>\n",
       "      <th>id</th>\n",
       "      <th>date</th>\n",
       "      <th>open</th>\n",
       "      <th>high</th>\n",
       "      <th>low</th>\n",
       "      <th>close</th>\n",
       "      <th>adj_close</th>\n",
       "      <th>volume</th>\n",
       "    </tr>\n",
       "  </thead>\n",
       "  <tbody>\n",
       "    <tr>\n",
       "      <th>0</th>\n",
       "      <td>5098</td>\n",
       "      <td>2020-04-08</td>\n",
       "      <td>2685.000000</td>\n",
       "      <td>2760.750000</td>\n",
       "      <td>2663.300049</td>\n",
       "      <td>2749.979980</td>\n",
       "      <td>2749.979980</td>\n",
       "      <td>5856370000</td>\n",
       "    </tr>\n",
       "    <tr>\n",
       "      <th>1</th>\n",
       "      <td>5097</td>\n",
       "      <td>2020-04-07</td>\n",
       "      <td>2738.649902</td>\n",
       "      <td>2756.889893</td>\n",
       "      <td>2657.669922</td>\n",
       "      <td>2659.409912</td>\n",
       "      <td>2659.409912</td>\n",
       "      <td>7040720000</td>\n",
       "    </tr>\n",
       "    <tr>\n",
       "      <th>2</th>\n",
       "      <td>5096</td>\n",
       "      <td>2020-04-06</td>\n",
       "      <td>2578.280029</td>\n",
       "      <td>2676.850098</td>\n",
       "      <td>2574.570068</td>\n",
       "      <td>2663.679932</td>\n",
       "      <td>2663.679932</td>\n",
       "      <td>6391860000</td>\n",
       "    </tr>\n",
       "    <tr>\n",
       "      <th>3</th>\n",
       "      <td>5095</td>\n",
       "      <td>2020-04-03</td>\n",
       "      <td>2514.919922</td>\n",
       "      <td>2538.179932</td>\n",
       "      <td>2459.959961</td>\n",
       "      <td>2488.649902</td>\n",
       "      <td>2488.649902</td>\n",
       "      <td>6087190000</td>\n",
       "    </tr>\n",
       "    <tr>\n",
       "      <th>4</th>\n",
       "      <td>5094</td>\n",
       "      <td>2020-04-02</td>\n",
       "      <td>2458.540039</td>\n",
       "      <td>2533.219971</td>\n",
       "      <td>2455.790039</td>\n",
       "      <td>2526.899902</td>\n",
       "      <td>2526.899902</td>\n",
       "      <td>6454990000</td>\n",
       "    </tr>\n",
       "    <tr>\n",
       "      <th>5</th>\n",
       "      <td>5093</td>\n",
       "      <td>2020-04-01</td>\n",
       "      <td>2498.080078</td>\n",
       "      <td>2522.750000</td>\n",
       "      <td>2447.489990</td>\n",
       "      <td>2470.500000</td>\n",
       "      <td>2470.500000</td>\n",
       "      <td>5947900000</td>\n",
       "    </tr>\n",
       "    <tr>\n",
       "      <th>6</th>\n",
       "      <td>5092</td>\n",
       "      <td>2020-03-31</td>\n",
       "      <td>2614.689941</td>\n",
       "      <td>2641.389893</td>\n",
       "      <td>2571.149902</td>\n",
       "      <td>2584.590088</td>\n",
       "      <td>2584.590088</td>\n",
       "      <td>6568290000</td>\n",
       "    </tr>\n",
       "    <tr>\n",
       "      <th>7</th>\n",
       "      <td>5091</td>\n",
       "      <td>2020-03-30</td>\n",
       "      <td>2558.979980</td>\n",
       "      <td>2631.800049</td>\n",
       "      <td>2545.280029</td>\n",
       "      <td>2626.649902</td>\n",
       "      <td>2626.649902</td>\n",
       "      <td>5746220000</td>\n",
       "    </tr>\n",
       "    <tr>\n",
       "      <th>8</th>\n",
       "      <td>5090</td>\n",
       "      <td>2020-03-27</td>\n",
       "      <td>2555.870117</td>\n",
       "      <td>2615.909912</td>\n",
       "      <td>2520.020020</td>\n",
       "      <td>2541.469971</td>\n",
       "      <td>2541.469971</td>\n",
       "      <td>6194330000</td>\n",
       "    </tr>\n",
       "    <tr>\n",
       "      <th>9</th>\n",
       "      <td>5089</td>\n",
       "      <td>2020-03-26</td>\n",
       "      <td>2501.290039</td>\n",
       "      <td>2637.010010</td>\n",
       "      <td>2500.719971</td>\n",
       "      <td>2630.070068</td>\n",
       "      <td>2630.070068</td>\n",
       "      <td>7753160000</td>\n",
       "    </tr>\n",
       "    <tr>\n",
       "      <th>10</th>\n",
       "      <td>5088</td>\n",
       "      <td>2020-03-25</td>\n",
       "      <td>2457.770020</td>\n",
       "      <td>2571.419922</td>\n",
       "      <td>2407.530029</td>\n",
       "      <td>2475.560059</td>\n",
       "      <td>2475.560059</td>\n",
       "      <td>8285670000</td>\n",
       "    </tr>\n",
       "    <tr>\n",
       "      <th>11</th>\n",
       "      <td>5087</td>\n",
       "      <td>2020-03-24</td>\n",
       "      <td>2344.439941</td>\n",
       "      <td>2449.709961</td>\n",
       "      <td>2344.439941</td>\n",
       "      <td>2447.330078</td>\n",
       "      <td>2447.330078</td>\n",
       "      <td>7547350000</td>\n",
       "    </tr>\n",
       "    <tr>\n",
       "      <th>12</th>\n",
       "      <td>5086</td>\n",
       "      <td>2020-03-23</td>\n",
       "      <td>2290.709961</td>\n",
       "      <td>2300.729980</td>\n",
       "      <td>2191.860107</td>\n",
       "      <td>2237.399902</td>\n",
       "      <td>2237.399902</td>\n",
       "      <td>7402180000</td>\n",
       "    </tr>\n",
       "    <tr>\n",
       "      <th>13</th>\n",
       "      <td>5085</td>\n",
       "      <td>2020-03-20</td>\n",
       "      <td>2431.939941</td>\n",
       "      <td>2453.010010</td>\n",
       "      <td>2295.560059</td>\n",
       "      <td>2304.919922</td>\n",
       "      <td>2304.919922</td>\n",
       "      <td>9044690000</td>\n",
       "    </tr>\n",
       "    <tr>\n",
       "      <th>14</th>\n",
       "      <td>5084</td>\n",
       "      <td>2020-03-19</td>\n",
       "      <td>2393.479980</td>\n",
       "      <td>2466.969971</td>\n",
       "      <td>2319.780029</td>\n",
       "      <td>2409.389893</td>\n",
       "      <td>2409.389893</td>\n",
       "      <td>7946710000</td>\n",
       "    </tr>\n",
       "  </tbody>\n",
       "</table>\n",
       "</div>"
      ],
      "text/plain": [
       "      id        date         open         high          low        close  \\\n",
       "0   5098  2020-04-08  2685.000000  2760.750000  2663.300049  2749.979980   \n",
       "1   5097  2020-04-07  2738.649902  2756.889893  2657.669922  2659.409912   \n",
       "2   5096  2020-04-06  2578.280029  2676.850098  2574.570068  2663.679932   \n",
       "3   5095  2020-04-03  2514.919922  2538.179932  2459.959961  2488.649902   \n",
       "4   5094  2020-04-02  2458.540039  2533.219971  2455.790039  2526.899902   \n",
       "5   5093  2020-04-01  2498.080078  2522.750000  2447.489990  2470.500000   \n",
       "6   5092  2020-03-31  2614.689941  2641.389893  2571.149902  2584.590088   \n",
       "7   5091  2020-03-30  2558.979980  2631.800049  2545.280029  2626.649902   \n",
       "8   5090  2020-03-27  2555.870117  2615.909912  2520.020020  2541.469971   \n",
       "9   5089  2020-03-26  2501.290039  2637.010010  2500.719971  2630.070068   \n",
       "10  5088  2020-03-25  2457.770020  2571.419922  2407.530029  2475.560059   \n",
       "11  5087  2020-03-24  2344.439941  2449.709961  2344.439941  2447.330078   \n",
       "12  5086  2020-03-23  2290.709961  2300.729980  2191.860107  2237.399902   \n",
       "13  5085  2020-03-20  2431.939941  2453.010010  2295.560059  2304.919922   \n",
       "14  5084  2020-03-19  2393.479980  2466.969971  2319.780029  2409.389893   \n",
       "\n",
       "      adj_close      volume  \n",
       "0   2749.979980  5856370000  \n",
       "1   2659.409912  7040720000  \n",
       "2   2663.679932  6391860000  \n",
       "3   2488.649902  6087190000  \n",
       "4   2526.899902  6454990000  \n",
       "5   2470.500000  5947900000  \n",
       "6   2584.590088  6568290000  \n",
       "7   2626.649902  5746220000  \n",
       "8   2541.469971  6194330000  \n",
       "9   2630.070068  7753160000  \n",
       "10  2475.560059  8285670000  \n",
       "11  2447.330078  7547350000  \n",
       "12  2237.399902  7402180000  \n",
       "13  2304.919922  9044690000  \n",
       "14  2409.389893  7946710000  "
      ]
     },
     "execution_count": 119,
     "metadata": {},
     "output_type": "execute_result"
    }
   ],
   "source": [
    "pd.read_sql(\"SELECT * FROM sp_data_v2 ORDER BY date DESC LIMIT 15\", con = conn).reset_index(drop = True)"
   ]
  },
  {
   "cell_type": "code",
   "execution_count": 93,
   "metadata": {},
   "outputs": [],
   "source": [
    "session = Session(engine)"
   ]
  },
  {
   "cell_type": "code",
   "execution_count": 94,
   "metadata": {},
   "outputs": [
    {
     "data": {
      "text/plain": [
       "[(datetime.date(2020, 4, 8))]"
      ]
     },
     "execution_count": 94,
     "metadata": {},
     "output_type": "execute_result"
    }
   ],
   "source": [
    "session.query(func.max(SP_Data_V2.date)).all()"
   ]
  },
  {
   "cell_type": "code",
   "execution_count": 95,
   "metadata": {},
   "outputs": [
    {
     "data": {
      "text/plain": [
       "[(datetime.date(2000, 1, 3))]"
      ]
     },
     "execution_count": 95,
     "metadata": {},
     "output_type": "execute_result"
    }
   ],
   "source": [
    "session.query(func.min(SP_Data_V2.date)).all()"
   ]
  },
  {
   "cell_type": "code",
   "execution_count": null,
   "metadata": {},
   "outputs": [],
   "source": []
  }
 ],
 "metadata": {
  "kernelspec": {
   "display_name": "Python 3",
   "language": "python",
   "name": "python3"
  },
  "language_info": {
   "codemirror_mode": {
    "name": "ipython",
    "version": 3
   },
   "file_extension": ".py",
   "mimetype": "text/x-python",
   "name": "python",
   "nbconvert_exporter": "python",
   "pygments_lexer": "ipython3",
   "version": "3.7.1"
  }
 },
 "nbformat": 4,
 "nbformat_minor": 2
}
