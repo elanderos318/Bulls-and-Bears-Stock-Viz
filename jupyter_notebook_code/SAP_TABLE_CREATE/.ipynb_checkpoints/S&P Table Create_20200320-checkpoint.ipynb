{
 "cells": [
  {
   "cell_type": "code",
   "execution_count": 28,
   "metadata": {},
   "outputs": [],
   "source": [
    "import pandas as pd"
   ]
  },
  {
   "cell_type": "code",
   "execution_count": 97,
   "metadata": {},
   "outputs": [],
   "source": [
    "from sqlalchemy import create_engine, func\n",
    "from sqlalchemy.ext.declarative import declarative_base\n",
    "from sqlalchemy import Column, Integer, String, Float, DateTime, Date, Time\n",
    "from sqlalchemy.orm import Session"
   ]
  },
  {
   "cell_type": "code",
   "execution_count": 2,
   "metadata": {},
   "outputs": [],
   "source": [
    "import datetime as dt"
   ]
  },
  {
   "cell_type": "code",
   "execution_count": 17,
   "metadata": {},
   "outputs": [],
   "source": [
    "# Sets an object to utilize the default declarative base in SQL Alchemy\n",
    "Base = declarative_base()"
   ]
  },
  {
   "cell_type": "code",
   "execution_count": 18,
   "metadata": {},
   "outputs": [],
   "source": [
    "# Creates Classes which will serve as the anchor points for our Table\n",
    "class SP_Data(Base):\n",
    "    __tablename__ = 'sp_data_20200320'\n",
    "    id = Column(Integer, primary_key=True)\n",
    "    date = Column(Date)\n",
    "    open = Column(Float)\n",
    "    high = Column(Float)\n",
    "    low = Column(Float)\n",
    "    close = Column(Float)\n",
    "    adj_close = Column(Float)\n",
    "    volume = Column(Integer)"
   ]
  },
  {
   "cell_type": "code",
   "execution_count": 19,
   "metadata": {},
   "outputs": [],
   "source": [
    "# Create Database Connection\n",
    "engine = create_engine(\"sqlite:///../db/bulls_bears.sqlite\")\n",
    "conn = engine.connect()"
   ]
  },
  {
   "cell_type": "code",
   "execution_count": 20,
   "metadata": {},
   "outputs": [],
   "source": [
    "# Create a \"Metadata\" Layer That Abstracts our SQL Database\n",
    "# ----------------------------------\n",
    "# Create (if not already in existence) the tables associated with our classes.\n",
    "Base.metadata.create_all(engine)"
   ]
  },
  {
   "cell_type": "code",
   "execution_count": 21,
   "metadata": {},
   "outputs": [],
   "source": [
    "# Use this to clear out the db\n",
    "# ----------------------------------\n",
    "# Base.metadata.drop_all(engine)\n",
    "# Base.metadata.clear()"
   ]
  },
  {
   "cell_type": "code",
   "execution_count": 22,
   "metadata": {},
   "outputs": [],
   "source": [
    "from sqlalchemy import inspect"
   ]
  },
  {
   "cell_type": "code",
   "execution_count": 23,
   "metadata": {},
   "outputs": [],
   "source": [
    "# Create the inspector and connect it to the engine\n",
    "inspector = inspect(engine)"
   ]
  },
  {
   "cell_type": "code",
   "execution_count": 24,
   "metadata": {},
   "outputs": [
    {
     "data": {
      "text/plain": [
       "['sp_data']"
      ]
     },
     "execution_count": 24,
     "metadata": {},
     "output_type": "execute_result"
    }
   ],
   "source": [
    "# Collect the names of tables within the database\n",
    "inspector.get_table_names()"
   ]
  },
  {
   "cell_type": "code",
   "execution_count": 25,
   "metadata": {},
   "outputs": [
    {
     "name": "stdout",
     "output_type": "stream",
     "text": [
      "id INTEGER\n",
      "date DATE\n",
      "open FLOAT\n",
      "high FLOAT\n",
      "low FLOAT\n",
      "close FLOAT\n",
      "adj_close FLOAT\n",
      "volume INTEGER\n"
     ]
    }
   ],
   "source": [
    "# Using the inspector to print the column names within the 'tweet_data' table and its types\n",
    "columns = inspector.get_columns('sp_data')\n",
    "for column in columns:\n",
    "    print(column[\"name\"], column[\"type\"])"
   ]
  },
  {
   "cell_type": "code",
   "execution_count": 69,
   "metadata": {},
   "outputs": [],
   "source": [
    "data_file = \"../datasets/SAP500.csv\""
   ]
  },
  {
   "cell_type": "code",
   "execution_count": 70,
   "metadata": {},
   "outputs": [],
   "source": [
    "sp_df = pd.read_csv(data_file)"
   ]
  },
  {
   "cell_type": "code",
   "execution_count": 71,
   "metadata": {},
   "outputs": [
    {
     "data": {
      "text/html": [
       "<div>\n",
       "<style scoped>\n",
       "    .dataframe tbody tr th:only-of-type {\n",
       "        vertical-align: middle;\n",
       "    }\n",
       "\n",
       "    .dataframe tbody tr th {\n",
       "        vertical-align: top;\n",
       "    }\n",
       "\n",
       "    .dataframe thead th {\n",
       "        text-align: right;\n",
       "    }\n",
       "</style>\n",
       "<table border=\"1\" class=\"dataframe\">\n",
       "  <thead>\n",
       "    <tr style=\"text-align: right;\">\n",
       "      <th></th>\n",
       "      <th>Date</th>\n",
       "      <th>Open</th>\n",
       "      <th>High</th>\n",
       "      <th>Low</th>\n",
       "      <th>Close</th>\n",
       "      <th>Adj Close</th>\n",
       "      <th>Volume</th>\n",
       "    </tr>\n",
       "  </thead>\n",
       "  <tbody>\n",
       "    <tr>\n",
       "      <th>0</th>\n",
       "      <td>1/3/2007</td>\n",
       "      <td>1418.030029</td>\n",
       "      <td>1429.420044</td>\n",
       "      <td>1407.859985</td>\n",
       "      <td>1416.599976</td>\n",
       "      <td>1416.599976</td>\n",
       "      <td>3429160000</td>\n",
       "    </tr>\n",
       "    <tr>\n",
       "      <th>1</th>\n",
       "      <td>1/4/2007</td>\n",
       "      <td>1416.599976</td>\n",
       "      <td>1421.839966</td>\n",
       "      <td>1408.430054</td>\n",
       "      <td>1418.339966</td>\n",
       "      <td>1418.339966</td>\n",
       "      <td>3004460000</td>\n",
       "    </tr>\n",
       "    <tr>\n",
       "      <th>2</th>\n",
       "      <td>1/5/2007</td>\n",
       "      <td>1418.339966</td>\n",
       "      <td>1418.339966</td>\n",
       "      <td>1405.750000</td>\n",
       "      <td>1409.709961</td>\n",
       "      <td>1409.709961</td>\n",
       "      <td>2919400000</td>\n",
       "    </tr>\n",
       "    <tr>\n",
       "      <th>3</th>\n",
       "      <td>1/8/2007</td>\n",
       "      <td>1409.260010</td>\n",
       "      <td>1414.979980</td>\n",
       "      <td>1403.969971</td>\n",
       "      <td>1412.839966</td>\n",
       "      <td>1412.839966</td>\n",
       "      <td>2763340000</td>\n",
       "    </tr>\n",
       "    <tr>\n",
       "      <th>4</th>\n",
       "      <td>1/9/2007</td>\n",
       "      <td>1412.839966</td>\n",
       "      <td>1415.609985</td>\n",
       "      <td>1405.420044</td>\n",
       "      <td>1412.109985</td>\n",
       "      <td>1412.109985</td>\n",
       "      <td>3038380000</td>\n",
       "    </tr>\n",
       "  </tbody>\n",
       "</table>\n",
       "</div>"
      ],
      "text/plain": [
       "       Date         Open         High          Low        Close    Adj Close  \\\n",
       "0  1/3/2007  1418.030029  1429.420044  1407.859985  1416.599976  1416.599976   \n",
       "1  1/4/2007  1416.599976  1421.839966  1408.430054  1418.339966  1418.339966   \n",
       "2  1/5/2007  1418.339966  1418.339966  1405.750000  1409.709961  1409.709961   \n",
       "3  1/8/2007  1409.260010  1414.979980  1403.969971  1412.839966  1412.839966   \n",
       "4  1/9/2007  1412.839966  1415.609985  1405.420044  1412.109985  1412.109985   \n",
       "\n",
       "       Volume  \n",
       "0  3429160000  \n",
       "1  3004460000  \n",
       "2  2919400000  \n",
       "3  2763340000  \n",
       "4  3038380000  "
      ]
     },
     "execution_count": 71,
     "metadata": {},
     "output_type": "execute_result"
    }
   ],
   "source": [
    "sp_df.head()"
   ]
  },
  {
   "cell_type": "code",
   "execution_count": 72,
   "metadata": {},
   "outputs": [
    {
     "data": {
      "text/plain": [
       "Date          object\n",
       "Open         float64\n",
       "High         float64\n",
       "Low          float64\n",
       "Close        float64\n",
       "Adj Close    float64\n",
       "Volume         int64\n",
       "dtype: object"
      ]
     },
     "execution_count": 72,
     "metadata": {},
     "output_type": "execute_result"
    }
   ],
   "source": [
    "sp_df.dtypes"
   ]
  },
  {
   "cell_type": "code",
   "execution_count": 73,
   "metadata": {},
   "outputs": [],
   "source": [
    "sp_df[\"Date\"] = sp_df[\"Date\"].apply(lambda x: dt.datetime.strptime(x, \"%m/%d/%Y\").date())"
   ]
  },
  {
   "cell_type": "code",
   "execution_count": 80,
   "metadata": {},
   "outputs": [],
   "source": [
    "sp_df = sp_df.rename(columns={\"Date\": \"date\", \"Open\": \"open\", \"High\": \"high\",\n",
    "                              \"Low\": \"low\", \"Close\": \"close\",\n",
    "                              \"Adj Close\": \"adj_close\", \"Volume\": \"volume\"})"
   ]
  },
  {
   "cell_type": "code",
   "execution_count": 81,
   "metadata": {},
   "outputs": [
    {
     "data": {
      "text/html": [
       "<div>\n",
       "<style scoped>\n",
       "    .dataframe tbody tr th:only-of-type {\n",
       "        vertical-align: middle;\n",
       "    }\n",
       "\n",
       "    .dataframe tbody tr th {\n",
       "        vertical-align: top;\n",
       "    }\n",
       "\n",
       "    .dataframe thead th {\n",
       "        text-align: right;\n",
       "    }\n",
       "</style>\n",
       "<table border=\"1\" class=\"dataframe\">\n",
       "  <thead>\n",
       "    <tr style=\"text-align: right;\">\n",
       "      <th></th>\n",
       "      <th>date</th>\n",
       "      <th>open</th>\n",
       "      <th>high</th>\n",
       "      <th>low</th>\n",
       "      <th>close</th>\n",
       "      <th>adj_close</th>\n",
       "      <th>volume</th>\n",
       "    </tr>\n",
       "  </thead>\n",
       "  <tbody>\n",
       "    <tr>\n",
       "      <th>0</th>\n",
       "      <td>2007-01-03</td>\n",
       "      <td>1418.030029</td>\n",
       "      <td>1429.420044</td>\n",
       "      <td>1407.859985</td>\n",
       "      <td>1416.599976</td>\n",
       "      <td>1416.599976</td>\n",
       "      <td>3429160000</td>\n",
       "    </tr>\n",
       "    <tr>\n",
       "      <th>1</th>\n",
       "      <td>2007-01-04</td>\n",
       "      <td>1416.599976</td>\n",
       "      <td>1421.839966</td>\n",
       "      <td>1408.430054</td>\n",
       "      <td>1418.339966</td>\n",
       "      <td>1418.339966</td>\n",
       "      <td>3004460000</td>\n",
       "    </tr>\n",
       "    <tr>\n",
       "      <th>2</th>\n",
       "      <td>2007-01-05</td>\n",
       "      <td>1418.339966</td>\n",
       "      <td>1418.339966</td>\n",
       "      <td>1405.750000</td>\n",
       "      <td>1409.709961</td>\n",
       "      <td>1409.709961</td>\n",
       "      <td>2919400000</td>\n",
       "    </tr>\n",
       "    <tr>\n",
       "      <th>3</th>\n",
       "      <td>2007-01-08</td>\n",
       "      <td>1409.260010</td>\n",
       "      <td>1414.979980</td>\n",
       "      <td>1403.969971</td>\n",
       "      <td>1412.839966</td>\n",
       "      <td>1412.839966</td>\n",
       "      <td>2763340000</td>\n",
       "    </tr>\n",
       "    <tr>\n",
       "      <th>4</th>\n",
       "      <td>2007-01-09</td>\n",
       "      <td>1412.839966</td>\n",
       "      <td>1415.609985</td>\n",
       "      <td>1405.420044</td>\n",
       "      <td>1412.109985</td>\n",
       "      <td>1412.109985</td>\n",
       "      <td>3038380000</td>\n",
       "    </tr>\n",
       "  </tbody>\n",
       "</table>\n",
       "</div>"
      ],
      "text/plain": [
       "         date         open         high          low        close  \\\n",
       "0  2007-01-03  1418.030029  1429.420044  1407.859985  1416.599976   \n",
       "1  2007-01-04  1416.599976  1421.839966  1408.430054  1418.339966   \n",
       "2  2007-01-05  1418.339966  1418.339966  1405.750000  1409.709961   \n",
       "3  2007-01-08  1409.260010  1414.979980  1403.969971  1412.839966   \n",
       "4  2007-01-09  1412.839966  1415.609985  1405.420044  1412.109985   \n",
       "\n",
       "     adj_close      volume  \n",
       "0  1416.599976  3429160000  \n",
       "1  1418.339966  3004460000  \n",
       "2  1409.709961  2919400000  \n",
       "3  1412.839966  2763340000  \n",
       "4  1412.109985  3038380000  "
      ]
     },
     "execution_count": 81,
     "metadata": {},
     "output_type": "execute_result"
    }
   ],
   "source": [
    "sp_df.head()"
   ]
  },
  {
   "cell_type": "code",
   "execution_count": 82,
   "metadata": {},
   "outputs": [],
   "source": [
    "#Export data to sqlite\n",
    "sp_df.to_sql('sp_data', con=engine, if_exists = 'append', index = False)"
   ]
  },
  {
   "cell_type": "code",
   "execution_count": 85,
   "metadata": {},
   "outputs": [
    {
     "data": {
      "text/plain": [
       "[(1, '2007-01-03', 1418.030029, 1429.420044, 1407.859985, 1416.599976, 1416.599976, 3429160000),\n",
       " (2, '2007-01-04', 1416.599976, 1421.839966, 1408.430054, 1418.339966, 1418.339966, 3004460000),\n",
       " (3, '2007-01-05', 1418.339966, 1418.339966, 1405.75, 1409.709961, 1409.709961, 2919400000),\n",
       " (4, '2007-01-08', 1409.26001, 1414.97998, 1403.969971, 1412.839966, 1412.839966, 2763340000),\n",
       " (5, '2007-01-09', 1412.839966, 1415.609985, 1405.420044, 1412.109985, 1412.109985, 3038380000),\n",
       " (6, '2007-01-10', 1408.699951, 1415.98999, 1405.319946, 1414.849976, 1414.849976, 2764660000),\n",
       " (7, '2007-01-11', 1414.839966, 1427.119995, 1414.839966, 1423.819946, 1423.819946, 2857870000),\n",
       " (8, '2007-01-12', 1423.819946, 1431.22998, 1422.579956, 1430.72998, 1430.72998, 2686480000),\n",
       " (9, '2007-01-16', 1430.72998, 1433.930054, 1428.619995, 1431.900024, 1431.900024, 2599530000),\n",
       " (10, '2007-01-17', 1431.77002, 1435.27002, 1428.569946, 1430.619995, 1430.619995, 2690270000),\n",
       " (11, '2007-01-18', 1430.589966, 1432.959961, 1424.209961, 1426.369995, 1426.369995, 2822430000),\n",
       " (12, '2007-01-19', 1426.349976, 1431.569946, 1425.189941, 1430.5, 1430.5, 2777480000),\n",
       " (13, '2007-01-22', 1430.469971, 1431.390015, 1420.400024, 1422.949951, 1422.949951, 2540120000),\n",
       " (14, '2007-01-23', 1422.949951, 1431.329956, 1421.660034, 1427.98999, 1427.98999, 2975070000),\n",
       " (15, '2007-01-24', 1427.959961, 1440.140015, 1427.959961, 1440.130005, 1440.130005, 2783180000)]"
      ]
     },
     "execution_count": 85,
     "metadata": {},
     "output_type": "execute_result"
    }
   ],
   "source": [
    "engine.execute(\"SELECT * FROM sp_data LIMIT 15\").fetchall()"
   ]
  },
  {
   "cell_type": "code",
   "execution_count": 91,
   "metadata": {},
   "outputs": [
    {
     "data": {
      "text/html": [
       "<div>\n",
       "<style scoped>\n",
       "    .dataframe tbody tr th:only-of-type {\n",
       "        vertical-align: middle;\n",
       "    }\n",
       "\n",
       "    .dataframe tbody tr th {\n",
       "        vertical-align: top;\n",
       "    }\n",
       "\n",
       "    .dataframe thead th {\n",
       "        text-align: right;\n",
       "    }\n",
       "</style>\n",
       "<table border=\"1\" class=\"dataframe\">\n",
       "  <thead>\n",
       "    <tr style=\"text-align: right;\">\n",
       "      <th></th>\n",
       "      <th>id</th>\n",
       "      <th>date</th>\n",
       "      <th>open</th>\n",
       "      <th>high</th>\n",
       "      <th>low</th>\n",
       "      <th>close</th>\n",
       "      <th>adj_close</th>\n",
       "      <th>volume</th>\n",
       "    </tr>\n",
       "  </thead>\n",
       "  <tbody>\n",
       "    <tr>\n",
       "      <th>0</th>\n",
       "      <td>1</td>\n",
       "      <td>2007-01-03</td>\n",
       "      <td>1418.030029</td>\n",
       "      <td>1429.420044</td>\n",
       "      <td>1407.859985</td>\n",
       "      <td>1416.599976</td>\n",
       "      <td>1416.599976</td>\n",
       "      <td>3429160000</td>\n",
       "    </tr>\n",
       "    <tr>\n",
       "      <th>1</th>\n",
       "      <td>2</td>\n",
       "      <td>2007-01-04</td>\n",
       "      <td>1416.599976</td>\n",
       "      <td>1421.839966</td>\n",
       "      <td>1408.430054</td>\n",
       "      <td>1418.339966</td>\n",
       "      <td>1418.339966</td>\n",
       "      <td>3004460000</td>\n",
       "    </tr>\n",
       "    <tr>\n",
       "      <th>2</th>\n",
       "      <td>3</td>\n",
       "      <td>2007-01-05</td>\n",
       "      <td>1418.339966</td>\n",
       "      <td>1418.339966</td>\n",
       "      <td>1405.750000</td>\n",
       "      <td>1409.709961</td>\n",
       "      <td>1409.709961</td>\n",
       "      <td>2919400000</td>\n",
       "    </tr>\n",
       "    <tr>\n",
       "      <th>3</th>\n",
       "      <td>4</td>\n",
       "      <td>2007-01-08</td>\n",
       "      <td>1409.260010</td>\n",
       "      <td>1414.979980</td>\n",
       "      <td>1403.969971</td>\n",
       "      <td>1412.839966</td>\n",
       "      <td>1412.839966</td>\n",
       "      <td>2763340000</td>\n",
       "    </tr>\n",
       "    <tr>\n",
       "      <th>4</th>\n",
       "      <td>5</td>\n",
       "      <td>2007-01-09</td>\n",
       "      <td>1412.839966</td>\n",
       "      <td>1415.609985</td>\n",
       "      <td>1405.420044</td>\n",
       "      <td>1412.109985</td>\n",
       "      <td>1412.109985</td>\n",
       "      <td>3038380000</td>\n",
       "    </tr>\n",
       "    <tr>\n",
       "      <th>5</th>\n",
       "      <td>6</td>\n",
       "      <td>2007-01-10</td>\n",
       "      <td>1408.699951</td>\n",
       "      <td>1415.989990</td>\n",
       "      <td>1405.319946</td>\n",
       "      <td>1414.849976</td>\n",
       "      <td>1414.849976</td>\n",
       "      <td>2764660000</td>\n",
       "    </tr>\n",
       "    <tr>\n",
       "      <th>6</th>\n",
       "      <td>7</td>\n",
       "      <td>2007-01-11</td>\n",
       "      <td>1414.839966</td>\n",
       "      <td>1427.119995</td>\n",
       "      <td>1414.839966</td>\n",
       "      <td>1423.819946</td>\n",
       "      <td>1423.819946</td>\n",
       "      <td>2857870000</td>\n",
       "    </tr>\n",
       "    <tr>\n",
       "      <th>7</th>\n",
       "      <td>8</td>\n",
       "      <td>2007-01-12</td>\n",
       "      <td>1423.819946</td>\n",
       "      <td>1431.229980</td>\n",
       "      <td>1422.579956</td>\n",
       "      <td>1430.729980</td>\n",
       "      <td>1430.729980</td>\n",
       "      <td>2686480000</td>\n",
       "    </tr>\n",
       "    <tr>\n",
       "      <th>8</th>\n",
       "      <td>9</td>\n",
       "      <td>2007-01-16</td>\n",
       "      <td>1430.729980</td>\n",
       "      <td>1433.930054</td>\n",
       "      <td>1428.619995</td>\n",
       "      <td>1431.900024</td>\n",
       "      <td>1431.900024</td>\n",
       "      <td>2599530000</td>\n",
       "    </tr>\n",
       "    <tr>\n",
       "      <th>9</th>\n",
       "      <td>10</td>\n",
       "      <td>2007-01-17</td>\n",
       "      <td>1431.770020</td>\n",
       "      <td>1435.270020</td>\n",
       "      <td>1428.569946</td>\n",
       "      <td>1430.619995</td>\n",
       "      <td>1430.619995</td>\n",
       "      <td>2690270000</td>\n",
       "    </tr>\n",
       "    <tr>\n",
       "      <th>10</th>\n",
       "      <td>11</td>\n",
       "      <td>2007-01-18</td>\n",
       "      <td>1430.589966</td>\n",
       "      <td>1432.959961</td>\n",
       "      <td>1424.209961</td>\n",
       "      <td>1426.369995</td>\n",
       "      <td>1426.369995</td>\n",
       "      <td>2822430000</td>\n",
       "    </tr>\n",
       "    <tr>\n",
       "      <th>11</th>\n",
       "      <td>12</td>\n",
       "      <td>2007-01-19</td>\n",
       "      <td>1426.349976</td>\n",
       "      <td>1431.569946</td>\n",
       "      <td>1425.189941</td>\n",
       "      <td>1430.500000</td>\n",
       "      <td>1430.500000</td>\n",
       "      <td>2777480000</td>\n",
       "    </tr>\n",
       "    <tr>\n",
       "      <th>12</th>\n",
       "      <td>13</td>\n",
       "      <td>2007-01-22</td>\n",
       "      <td>1430.469971</td>\n",
       "      <td>1431.390015</td>\n",
       "      <td>1420.400024</td>\n",
       "      <td>1422.949951</td>\n",
       "      <td>1422.949951</td>\n",
       "      <td>2540120000</td>\n",
       "    </tr>\n",
       "    <tr>\n",
       "      <th>13</th>\n",
       "      <td>14</td>\n",
       "      <td>2007-01-23</td>\n",
       "      <td>1422.949951</td>\n",
       "      <td>1431.329956</td>\n",
       "      <td>1421.660034</td>\n",
       "      <td>1427.989990</td>\n",
       "      <td>1427.989990</td>\n",
       "      <td>2975070000</td>\n",
       "    </tr>\n",
       "    <tr>\n",
       "      <th>14</th>\n",
       "      <td>15</td>\n",
       "      <td>2007-01-24</td>\n",
       "      <td>1427.959961</td>\n",
       "      <td>1440.140015</td>\n",
       "      <td>1427.959961</td>\n",
       "      <td>1440.130005</td>\n",
       "      <td>1440.130005</td>\n",
       "      <td>2783180000</td>\n",
       "    </tr>\n",
       "  </tbody>\n",
       "</table>\n",
       "</div>"
      ],
      "text/plain": [
       "    id        date         open         high          low        close  \\\n",
       "0    1  2007-01-03  1418.030029  1429.420044  1407.859985  1416.599976   \n",
       "1    2  2007-01-04  1416.599976  1421.839966  1408.430054  1418.339966   \n",
       "2    3  2007-01-05  1418.339966  1418.339966  1405.750000  1409.709961   \n",
       "3    4  2007-01-08  1409.260010  1414.979980  1403.969971  1412.839966   \n",
       "4    5  2007-01-09  1412.839966  1415.609985  1405.420044  1412.109985   \n",
       "5    6  2007-01-10  1408.699951  1415.989990  1405.319946  1414.849976   \n",
       "6    7  2007-01-11  1414.839966  1427.119995  1414.839966  1423.819946   \n",
       "7    8  2007-01-12  1423.819946  1431.229980  1422.579956  1430.729980   \n",
       "8    9  2007-01-16  1430.729980  1433.930054  1428.619995  1431.900024   \n",
       "9   10  2007-01-17  1431.770020  1435.270020  1428.569946  1430.619995   \n",
       "10  11  2007-01-18  1430.589966  1432.959961  1424.209961  1426.369995   \n",
       "11  12  2007-01-19  1426.349976  1431.569946  1425.189941  1430.500000   \n",
       "12  13  2007-01-22  1430.469971  1431.390015  1420.400024  1422.949951   \n",
       "13  14  2007-01-23  1422.949951  1431.329956  1421.660034  1427.989990   \n",
       "14  15  2007-01-24  1427.959961  1440.140015  1427.959961  1440.130005   \n",
       "\n",
       "      adj_close      volume  \n",
       "0   1416.599976  3429160000  \n",
       "1   1418.339966  3004460000  \n",
       "2   1409.709961  2919400000  \n",
       "3   1412.839966  2763340000  \n",
       "4   1412.109985  3038380000  \n",
       "5   1414.849976  2764660000  \n",
       "6   1423.819946  2857870000  \n",
       "7   1430.729980  2686480000  \n",
       "8   1431.900024  2599530000  \n",
       "9   1430.619995  2690270000  \n",
       "10  1426.369995  2822430000  \n",
       "11  1430.500000  2777480000  \n",
       "12  1422.949951  2540120000  \n",
       "13  1427.989990  2975070000  \n",
       "14  1440.130005  2783180000  "
      ]
     },
     "execution_count": 91,
     "metadata": {},
     "output_type": "execute_result"
    }
   ],
   "source": [
    "pd.read_sql(\"SELECT * FROM sp_data LIMIT 15\", con = conn).reset_index(drop = True)"
   ]
  },
  {
   "cell_type": "code",
   "execution_count": 94,
   "metadata": {},
   "outputs": [],
   "source": [
    "session = Session(engine)"
   ]
  },
  {
   "cell_type": "code",
   "execution_count": 99,
   "metadata": {},
   "outputs": [
    {
     "data": {
      "text/plain": [
       "[(datetime.date(2019, 3, 25))]"
      ]
     },
     "execution_count": 99,
     "metadata": {},
     "output_type": "execute_result"
    }
   ],
   "source": [
    "session.query(func.max(SP_Data.date)).all()"
   ]
  },
  {
   "cell_type": "code",
   "execution_count": 100,
   "metadata": {},
   "outputs": [
    {
     "data": {
      "text/plain": [
       "[(datetime.date(2007, 1, 3))]"
      ]
     },
     "execution_count": 100,
     "metadata": {},
     "output_type": "execute_result"
    }
   ],
   "source": [
    "session.query(func.min(SP_Data.date)).all()"
   ]
  }
 ],
 "metadata": {
  "kernelspec": {
   "display_name": "Python 3",
   "language": "python",
   "name": "python3"
  },
  "language_info": {
   "codemirror_mode": {
    "name": "ipython",
    "version": 3
   },
   "file_extension": ".py",
   "mimetype": "text/x-python",
   "name": "python",
   "nbconvert_exporter": "python",
   "pygments_lexer": "ipython3",
   "version": "3.7.1"
  }
 },
 "nbformat": 4,
 "nbformat_minor": 2
}
