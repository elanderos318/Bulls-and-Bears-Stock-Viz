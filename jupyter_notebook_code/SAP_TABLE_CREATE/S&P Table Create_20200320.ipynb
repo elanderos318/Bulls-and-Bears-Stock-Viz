{
 "cells": [
  {
   "cell_type": "code",
   "execution_count": 1,
   "metadata": {},
   "outputs": [],
   "source": [
    "import pandas as pd"
   ]
  },
  {
   "cell_type": "code",
   "execution_count": 2,
   "metadata": {},
   "outputs": [],
   "source": [
    "from sqlalchemy import create_engine, func\n",
    "from sqlalchemy.ext.declarative import declarative_base\n",
    "from sqlalchemy import Column, Integer, String, Float, DateTime, Date, Time\n",
    "from sqlalchemy.orm import Session"
   ]
  },
  {
   "cell_type": "code",
   "execution_count": 3,
   "metadata": {},
   "outputs": [],
   "source": [
    "import datetime as dt"
   ]
  },
  {
   "cell_type": "code",
   "execution_count": 4,
   "metadata": {},
   "outputs": [],
   "source": [
    "# Sets an object to utilize the default declarative base in SQL Alchemy\n",
    "Base = declarative_base()"
   ]
  },
  {
   "cell_type": "code",
   "execution_count": 5,
   "metadata": {},
   "outputs": [],
   "source": [
    "# Creates Classes which will serve as the anchor points for our Table\n",
    "class SP_Data(Base):\n",
    "    __tablename__ = 'sp_data_20200320'\n",
    "    id = Column(Integer, primary_key=True)\n",
    "    date = Column(Date)\n",
    "    open = Column(Float)\n",
    "    high = Column(Float)\n",
    "    low = Column(Float)\n",
    "    close = Column(Float)\n",
    "    adj_close = Column(Float)\n",
    "    volume = Column(Integer)"
   ]
  },
  {
   "cell_type": "code",
   "execution_count": 6,
   "metadata": {},
   "outputs": [],
   "source": [
    "# Create Database Connection\n",
    "engine = create_engine(\"sqlite:///../../db/bulls_bears.sqlite\")\n",
    "conn = engine.connect()"
   ]
  },
  {
   "cell_type": "code",
   "execution_count": 7,
   "metadata": {},
   "outputs": [],
   "source": [
    "# Create a \"Metadata\" Layer That Abstracts our SQL Database\n",
    "# ----------------------------------\n",
    "# Create (if not already in existence) the tables associated with our classes.\n",
    "Base.metadata.create_all(engine)"
   ]
  },
  {
   "cell_type": "code",
   "execution_count": 8,
   "metadata": {},
   "outputs": [],
   "source": [
    "# Use this to clear out the db\n",
    "# ----------------------------------\n",
    "# Base.metadata.drop_all(engine)\n",
    "# Base.metadata.clear()"
   ]
  },
  {
   "cell_type": "code",
   "execution_count": 9,
   "metadata": {},
   "outputs": [],
   "source": [
    "from sqlalchemy import inspect"
   ]
  },
  {
   "cell_type": "code",
   "execution_count": 10,
   "metadata": {},
   "outputs": [],
   "source": [
    "# Create the inspector and connect it to the engine\n",
    "inspector = inspect(engine)"
   ]
  },
  {
   "cell_type": "code",
   "execution_count": 11,
   "metadata": {},
   "outputs": [
    {
     "data": {
      "text/plain": [
       "['sp_data', 'sp_data_20200320']"
      ]
     },
     "execution_count": 11,
     "metadata": {},
     "output_type": "execute_result"
    }
   ],
   "source": [
    "# Collect the names of tables within the database\n",
    "inspector.get_table_names()"
   ]
  },
  {
   "cell_type": "code",
   "execution_count": 12,
   "metadata": {},
   "outputs": [
    {
     "name": "stdout",
     "output_type": "stream",
     "text": [
      "id INTEGER\n",
      "date DATE\n",
      "open FLOAT\n",
      "high FLOAT\n",
      "low FLOAT\n",
      "close FLOAT\n",
      "adj_close FLOAT\n",
      "volume INTEGER\n"
     ]
    }
   ],
   "source": [
    "# Using the inspector to print the column names within the 'tweet_data' table and its types\n",
    "columns = inspector.get_columns('sp_data_20200320')\n",
    "for column in columns:\n",
    "    print(column[\"name\"], column[\"type\"])"
   ]
  },
  {
   "cell_type": "code",
   "execution_count": 13,
   "metadata": {},
   "outputs": [],
   "source": [
    "data_file = \"../../datasets/SAP500_20200320.csv\""
   ]
  },
  {
   "cell_type": "code",
   "execution_count": 14,
   "metadata": {},
   "outputs": [],
   "source": [
    "sp_df = pd.read_csv(data_file)"
   ]
  },
  {
   "cell_type": "code",
   "execution_count": 15,
   "metadata": {},
   "outputs": [
    {
     "data": {
      "text/html": [
       "<div>\n",
       "<style scoped>\n",
       "    .dataframe tbody tr th:only-of-type {\n",
       "        vertical-align: middle;\n",
       "    }\n",
       "\n",
       "    .dataframe tbody tr th {\n",
       "        vertical-align: top;\n",
       "    }\n",
       "\n",
       "    .dataframe thead th {\n",
       "        text-align: right;\n",
       "    }\n",
       "</style>\n",
       "<table border=\"1\" class=\"dataframe\">\n",
       "  <thead>\n",
       "    <tr style=\"text-align: right;\">\n",
       "      <th></th>\n",
       "      <th>Date</th>\n",
       "      <th>Open</th>\n",
       "      <th>High</th>\n",
       "      <th>Low</th>\n",
       "      <th>Close</th>\n",
       "      <th>Adj Close</th>\n",
       "      <th>Volume</th>\n",
       "    </tr>\n",
       "  </thead>\n",
       "  <tbody>\n",
       "    <tr>\n",
       "      <th>0</th>\n",
       "      <td>2000-01-03</td>\n",
       "      <td>1469.250000</td>\n",
       "      <td>1478.000000</td>\n",
       "      <td>1438.359985</td>\n",
       "      <td>1455.219971</td>\n",
       "      <td>1455.219971</td>\n",
       "      <td>931800000</td>\n",
       "    </tr>\n",
       "    <tr>\n",
       "      <th>1</th>\n",
       "      <td>2000-01-04</td>\n",
       "      <td>1455.219971</td>\n",
       "      <td>1455.219971</td>\n",
       "      <td>1397.430054</td>\n",
       "      <td>1399.420044</td>\n",
       "      <td>1399.420044</td>\n",
       "      <td>1009000000</td>\n",
       "    </tr>\n",
       "    <tr>\n",
       "      <th>2</th>\n",
       "      <td>2000-01-05</td>\n",
       "      <td>1399.420044</td>\n",
       "      <td>1413.270020</td>\n",
       "      <td>1377.680054</td>\n",
       "      <td>1402.109985</td>\n",
       "      <td>1402.109985</td>\n",
       "      <td>1085500000</td>\n",
       "    </tr>\n",
       "    <tr>\n",
       "      <th>3</th>\n",
       "      <td>2000-01-06</td>\n",
       "      <td>1402.109985</td>\n",
       "      <td>1411.900024</td>\n",
       "      <td>1392.099976</td>\n",
       "      <td>1403.449951</td>\n",
       "      <td>1403.449951</td>\n",
       "      <td>1092300000</td>\n",
       "    </tr>\n",
       "    <tr>\n",
       "      <th>4</th>\n",
       "      <td>2000-01-07</td>\n",
       "      <td>1403.449951</td>\n",
       "      <td>1441.469971</td>\n",
       "      <td>1400.729980</td>\n",
       "      <td>1441.469971</td>\n",
       "      <td>1441.469971</td>\n",
       "      <td>1225200000</td>\n",
       "    </tr>\n",
       "  </tbody>\n",
       "</table>\n",
       "</div>"
      ],
      "text/plain": [
       "         Date         Open         High          Low        Close  \\\n",
       "0  2000-01-03  1469.250000  1478.000000  1438.359985  1455.219971   \n",
       "1  2000-01-04  1455.219971  1455.219971  1397.430054  1399.420044   \n",
       "2  2000-01-05  1399.420044  1413.270020  1377.680054  1402.109985   \n",
       "3  2000-01-06  1402.109985  1411.900024  1392.099976  1403.449951   \n",
       "4  2000-01-07  1403.449951  1441.469971  1400.729980  1441.469971   \n",
       "\n",
       "     Adj Close      Volume  \n",
       "0  1455.219971   931800000  \n",
       "1  1399.420044  1009000000  \n",
       "2  1402.109985  1085500000  \n",
       "3  1403.449951  1092300000  \n",
       "4  1441.469971  1225200000  "
      ]
     },
     "execution_count": 15,
     "metadata": {},
     "output_type": "execute_result"
    }
   ],
   "source": [
    "sp_df.head()"
   ]
  },
  {
   "cell_type": "code",
   "execution_count": 16,
   "metadata": {},
   "outputs": [
    {
     "data": {
      "text/plain": [
       "Date          object\n",
       "Open         float64\n",
       "High         float64\n",
       "Low          float64\n",
       "Close        float64\n",
       "Adj Close    float64\n",
       "Volume         int64\n",
       "dtype: object"
      ]
     },
     "execution_count": 16,
     "metadata": {},
     "output_type": "execute_result"
    }
   ],
   "source": [
    "sp_df.dtypes"
   ]
  },
  {
   "cell_type": "code",
   "execution_count": 19,
   "metadata": {},
   "outputs": [],
   "source": [
    "sp_df[\"Date\"] = sp_df[\"Date\"].apply(lambda x: dt.datetime.strptime(x, \"%Y-%m-%d\").date())"
   ]
  },
  {
   "cell_type": "code",
   "execution_count": 20,
   "metadata": {},
   "outputs": [],
   "source": [
    "sp_df = sp_df.rename(columns={\"Date\": \"date\", \"Open\": \"open\", \"High\": \"high\",\n",
    "                              \"Low\": \"low\", \"Close\": \"close\",\n",
    "                              \"Adj Close\": \"adj_close\", \"Volume\": \"volume\"})"
   ]
  },
  {
   "cell_type": "code",
   "execution_count": 21,
   "metadata": {},
   "outputs": [
    {
     "data": {
      "text/html": [
       "<div>\n",
       "<style scoped>\n",
       "    .dataframe tbody tr th:only-of-type {\n",
       "        vertical-align: middle;\n",
       "    }\n",
       "\n",
       "    .dataframe tbody tr th {\n",
       "        vertical-align: top;\n",
       "    }\n",
       "\n",
       "    .dataframe thead th {\n",
       "        text-align: right;\n",
       "    }\n",
       "</style>\n",
       "<table border=\"1\" class=\"dataframe\">\n",
       "  <thead>\n",
       "    <tr style=\"text-align: right;\">\n",
       "      <th></th>\n",
       "      <th>date</th>\n",
       "      <th>open</th>\n",
       "      <th>high</th>\n",
       "      <th>low</th>\n",
       "      <th>close</th>\n",
       "      <th>adj_close</th>\n",
       "      <th>volume</th>\n",
       "    </tr>\n",
       "  </thead>\n",
       "  <tbody>\n",
       "    <tr>\n",
       "      <th>0</th>\n",
       "      <td>2000-01-03</td>\n",
       "      <td>1469.250000</td>\n",
       "      <td>1478.000000</td>\n",
       "      <td>1438.359985</td>\n",
       "      <td>1455.219971</td>\n",
       "      <td>1455.219971</td>\n",
       "      <td>931800000</td>\n",
       "    </tr>\n",
       "    <tr>\n",
       "      <th>1</th>\n",
       "      <td>2000-01-04</td>\n",
       "      <td>1455.219971</td>\n",
       "      <td>1455.219971</td>\n",
       "      <td>1397.430054</td>\n",
       "      <td>1399.420044</td>\n",
       "      <td>1399.420044</td>\n",
       "      <td>1009000000</td>\n",
       "    </tr>\n",
       "    <tr>\n",
       "      <th>2</th>\n",
       "      <td>2000-01-05</td>\n",
       "      <td>1399.420044</td>\n",
       "      <td>1413.270020</td>\n",
       "      <td>1377.680054</td>\n",
       "      <td>1402.109985</td>\n",
       "      <td>1402.109985</td>\n",
       "      <td>1085500000</td>\n",
       "    </tr>\n",
       "    <tr>\n",
       "      <th>3</th>\n",
       "      <td>2000-01-06</td>\n",
       "      <td>1402.109985</td>\n",
       "      <td>1411.900024</td>\n",
       "      <td>1392.099976</td>\n",
       "      <td>1403.449951</td>\n",
       "      <td>1403.449951</td>\n",
       "      <td>1092300000</td>\n",
       "    </tr>\n",
       "    <tr>\n",
       "      <th>4</th>\n",
       "      <td>2000-01-07</td>\n",
       "      <td>1403.449951</td>\n",
       "      <td>1441.469971</td>\n",
       "      <td>1400.729980</td>\n",
       "      <td>1441.469971</td>\n",
       "      <td>1441.469971</td>\n",
       "      <td>1225200000</td>\n",
       "    </tr>\n",
       "  </tbody>\n",
       "</table>\n",
       "</div>"
      ],
      "text/plain": [
       "         date         open         high          low        close  \\\n",
       "0  2000-01-03  1469.250000  1478.000000  1438.359985  1455.219971   \n",
       "1  2000-01-04  1455.219971  1455.219971  1397.430054  1399.420044   \n",
       "2  2000-01-05  1399.420044  1413.270020  1377.680054  1402.109985   \n",
       "3  2000-01-06  1402.109985  1411.900024  1392.099976  1403.449951   \n",
       "4  2000-01-07  1403.449951  1441.469971  1400.729980  1441.469971   \n",
       "\n",
       "     adj_close      volume  \n",
       "0  1455.219971   931800000  \n",
       "1  1399.420044  1009000000  \n",
       "2  1402.109985  1085500000  \n",
       "3  1403.449951  1092300000  \n",
       "4  1441.469971  1225200000  "
      ]
     },
     "execution_count": 21,
     "metadata": {},
     "output_type": "execute_result"
    }
   ],
   "source": [
    "sp_df.head()"
   ]
  },
  {
   "cell_type": "code",
   "execution_count": 22,
   "metadata": {},
   "outputs": [],
   "source": [
    "#Export data to sqlite\n",
    "sp_df.to_sql('sp_data_20200320', con=engine, if_exists = 'append', index = False)"
   ]
  },
  {
   "cell_type": "code",
   "execution_count": 23,
   "metadata": {},
   "outputs": [
    {
     "data": {
      "text/plain": [
       "[(1, '2007-01-03', 1418.030029, 1429.420044, 1407.859985, 1416.599976, 1416.599976, 3429160000),\n",
       " (2, '2007-01-04', 1416.599976, 1421.839966, 1408.430054, 1418.339966, 1418.339966, 3004460000),\n",
       " (3, '2007-01-05', 1418.339966, 1418.339966, 1405.75, 1409.709961, 1409.709961, 2919400000),\n",
       " (4, '2007-01-08', 1409.26001, 1414.97998, 1403.969971, 1412.839966, 1412.839966, 2763340000),\n",
       " (5, '2007-01-09', 1412.839966, 1415.609985, 1405.420044, 1412.109985, 1412.109985, 3038380000),\n",
       " (6, '2007-01-10', 1408.699951, 1415.98999, 1405.319946, 1414.849976, 1414.849976, 2764660000),\n",
       " (7, '2007-01-11', 1414.839966, 1427.119995, 1414.839966, 1423.819946, 1423.819946, 2857870000),\n",
       " (8, '2007-01-12', 1423.819946, 1431.22998, 1422.579956, 1430.72998, 1430.72998, 2686480000),\n",
       " (9, '2007-01-16', 1430.72998, 1433.930054, 1428.619995, 1431.900024, 1431.900024, 2599530000),\n",
       " (10, '2007-01-17', 1431.77002, 1435.27002, 1428.569946, 1430.619995, 1430.619995, 2690270000),\n",
       " (11, '2007-01-18', 1430.589966, 1432.959961, 1424.209961, 1426.369995, 1426.369995, 2822430000),\n",
       " (12, '2007-01-19', 1426.349976, 1431.569946, 1425.189941, 1430.5, 1430.5, 2777480000),\n",
       " (13, '2007-01-22', 1430.469971, 1431.390015, 1420.400024, 1422.949951, 1422.949951, 2540120000),\n",
       " (14, '2007-01-23', 1422.949951, 1431.329956, 1421.660034, 1427.98999, 1427.98999, 2975070000),\n",
       " (15, '2007-01-24', 1427.959961, 1440.140015, 1427.959961, 1440.130005, 1440.130005, 2783180000)]"
      ]
     },
     "execution_count": 23,
     "metadata": {},
     "output_type": "execute_result"
    }
   ],
   "source": [
    "engine.execute(\"SELECT * FROM sp_data LIMIT 15\").fetchall()"
   ]
  },
  {
   "cell_type": "code",
   "execution_count": 27,
   "metadata": {},
   "outputs": [
    {
     "data": {
      "text/html": [
       "<div>\n",
       "<style scoped>\n",
       "    .dataframe tbody tr th:only-of-type {\n",
       "        vertical-align: middle;\n",
       "    }\n",
       "\n",
       "    .dataframe tbody tr th {\n",
       "        vertical-align: top;\n",
       "    }\n",
       "\n",
       "    .dataframe thead th {\n",
       "        text-align: right;\n",
       "    }\n",
       "</style>\n",
       "<table border=\"1\" class=\"dataframe\">\n",
       "  <thead>\n",
       "    <tr style=\"text-align: right;\">\n",
       "      <th></th>\n",
       "      <th>id</th>\n",
       "      <th>date</th>\n",
       "      <th>open</th>\n",
       "      <th>high</th>\n",
       "      <th>low</th>\n",
       "      <th>close</th>\n",
       "      <th>adj_close</th>\n",
       "      <th>volume</th>\n",
       "    </tr>\n",
       "  </thead>\n",
       "  <tbody>\n",
       "    <tr>\n",
       "      <th>0</th>\n",
       "      <td>5085</td>\n",
       "      <td>2020-03-19</td>\n",
       "      <td>2393.479980</td>\n",
       "      <td>2466.969971</td>\n",
       "      <td>2319.780029</td>\n",
       "      <td>2409.389893</td>\n",
       "      <td>2409.389893</td>\n",
       "      <td>7946710000</td>\n",
       "    </tr>\n",
       "    <tr>\n",
       "      <th>1</th>\n",
       "      <td>5084</td>\n",
       "      <td>2020-03-18</td>\n",
       "      <td>2436.500000</td>\n",
       "      <td>2453.570068</td>\n",
       "      <td>2280.520020</td>\n",
       "      <td>2398.100098</td>\n",
       "      <td>2398.100098</td>\n",
       "      <td>8755780000</td>\n",
       "    </tr>\n",
       "    <tr>\n",
       "      <th>2</th>\n",
       "      <td>5083</td>\n",
       "      <td>2020-03-17</td>\n",
       "      <td>2425.659912</td>\n",
       "      <td>2553.929932</td>\n",
       "      <td>2367.040039</td>\n",
       "      <td>2529.189941</td>\n",
       "      <td>2529.189941</td>\n",
       "      <td>8358500000</td>\n",
       "    </tr>\n",
       "    <tr>\n",
       "      <th>3</th>\n",
       "      <td>5082</td>\n",
       "      <td>2020-03-16</td>\n",
       "      <td>2508.590088</td>\n",
       "      <td>2562.979980</td>\n",
       "      <td>2380.939941</td>\n",
       "      <td>2386.129883</td>\n",
       "      <td>2386.129883</td>\n",
       "      <td>7781540000</td>\n",
       "    </tr>\n",
       "    <tr>\n",
       "      <th>4</th>\n",
       "      <td>5081</td>\n",
       "      <td>2020-03-13</td>\n",
       "      <td>2569.989990</td>\n",
       "      <td>2711.330078</td>\n",
       "      <td>2492.370117</td>\n",
       "      <td>2711.020020</td>\n",
       "      <td>2711.020020</td>\n",
       "      <td>8258670000</td>\n",
       "    </tr>\n",
       "    <tr>\n",
       "      <th>5</th>\n",
       "      <td>5080</td>\n",
       "      <td>2020-03-12</td>\n",
       "      <td>2630.860107</td>\n",
       "      <td>2660.949951</td>\n",
       "      <td>2478.860107</td>\n",
       "      <td>2480.639893</td>\n",
       "      <td>2480.639893</td>\n",
       "      <td>8829380000</td>\n",
       "    </tr>\n",
       "    <tr>\n",
       "      <th>6</th>\n",
       "      <td>5079</td>\n",
       "      <td>2020-03-11</td>\n",
       "      <td>2825.600098</td>\n",
       "      <td>2825.600098</td>\n",
       "      <td>2707.219971</td>\n",
       "      <td>2741.379883</td>\n",
       "      <td>2741.379883</td>\n",
       "      <td>7374110000</td>\n",
       "    </tr>\n",
       "    <tr>\n",
       "      <th>7</th>\n",
       "      <td>5078</td>\n",
       "      <td>2020-03-10</td>\n",
       "      <td>2813.479980</td>\n",
       "      <td>2882.590088</td>\n",
       "      <td>2734.000000</td>\n",
       "      <td>2882.229980</td>\n",
       "      <td>2882.229980</td>\n",
       "      <td>7635960000</td>\n",
       "    </tr>\n",
       "    <tr>\n",
       "      <th>8</th>\n",
       "      <td>5077</td>\n",
       "      <td>2020-03-09</td>\n",
       "      <td>2863.889893</td>\n",
       "      <td>2863.889893</td>\n",
       "      <td>2734.429932</td>\n",
       "      <td>2746.560059</td>\n",
       "      <td>2746.560059</td>\n",
       "      <td>8423050000</td>\n",
       "    </tr>\n",
       "    <tr>\n",
       "      <th>9</th>\n",
       "      <td>5076</td>\n",
       "      <td>2020-03-06</td>\n",
       "      <td>2954.199951</td>\n",
       "      <td>2985.929932</td>\n",
       "      <td>2901.540039</td>\n",
       "      <td>2972.370117</td>\n",
       "      <td>2972.370117</td>\n",
       "      <td>6552140000</td>\n",
       "    </tr>\n",
       "    <tr>\n",
       "      <th>10</th>\n",
       "      <td>5075</td>\n",
       "      <td>2020-03-05</td>\n",
       "      <td>3075.699951</td>\n",
       "      <td>3083.040039</td>\n",
       "      <td>2999.830078</td>\n",
       "      <td>3023.939941</td>\n",
       "      <td>3023.939941</td>\n",
       "      <td>5575550000</td>\n",
       "    </tr>\n",
       "    <tr>\n",
       "      <th>11</th>\n",
       "      <td>5074</td>\n",
       "      <td>2020-03-04</td>\n",
       "      <td>3045.750000</td>\n",
       "      <td>3130.969971</td>\n",
       "      <td>3034.379883</td>\n",
       "      <td>3130.120117</td>\n",
       "      <td>3130.120117</td>\n",
       "      <td>5035480000</td>\n",
       "    </tr>\n",
       "    <tr>\n",
       "      <th>12</th>\n",
       "      <td>5073</td>\n",
       "      <td>2020-03-03</td>\n",
       "      <td>3096.459961</td>\n",
       "      <td>3136.719971</td>\n",
       "      <td>2976.629883</td>\n",
       "      <td>3003.370117</td>\n",
       "      <td>3003.370117</td>\n",
       "      <td>6355940000</td>\n",
       "    </tr>\n",
       "    <tr>\n",
       "      <th>13</th>\n",
       "      <td>5072</td>\n",
       "      <td>2020-03-02</td>\n",
       "      <td>2974.280029</td>\n",
       "      <td>3090.959961</td>\n",
       "      <td>2945.189941</td>\n",
       "      <td>3090.229980</td>\n",
       "      <td>3090.229980</td>\n",
       "      <td>6376400000</td>\n",
       "    </tr>\n",
       "    <tr>\n",
       "      <th>14</th>\n",
       "      <td>5071</td>\n",
       "      <td>2020-02-28</td>\n",
       "      <td>2916.899902</td>\n",
       "      <td>2959.719971</td>\n",
       "      <td>2855.840088</td>\n",
       "      <td>2954.219971</td>\n",
       "      <td>2954.219971</td>\n",
       "      <td>8563850000</td>\n",
       "    </tr>\n",
       "  </tbody>\n",
       "</table>\n",
       "</div>"
      ],
      "text/plain": [
       "      id        date         open         high          low        close  \\\n",
       "0   5085  2020-03-19  2393.479980  2466.969971  2319.780029  2409.389893   \n",
       "1   5084  2020-03-18  2436.500000  2453.570068  2280.520020  2398.100098   \n",
       "2   5083  2020-03-17  2425.659912  2553.929932  2367.040039  2529.189941   \n",
       "3   5082  2020-03-16  2508.590088  2562.979980  2380.939941  2386.129883   \n",
       "4   5081  2020-03-13  2569.989990  2711.330078  2492.370117  2711.020020   \n",
       "5   5080  2020-03-12  2630.860107  2660.949951  2478.860107  2480.639893   \n",
       "6   5079  2020-03-11  2825.600098  2825.600098  2707.219971  2741.379883   \n",
       "7   5078  2020-03-10  2813.479980  2882.590088  2734.000000  2882.229980   \n",
       "8   5077  2020-03-09  2863.889893  2863.889893  2734.429932  2746.560059   \n",
       "9   5076  2020-03-06  2954.199951  2985.929932  2901.540039  2972.370117   \n",
       "10  5075  2020-03-05  3075.699951  3083.040039  2999.830078  3023.939941   \n",
       "11  5074  2020-03-04  3045.750000  3130.969971  3034.379883  3130.120117   \n",
       "12  5073  2020-03-03  3096.459961  3136.719971  2976.629883  3003.370117   \n",
       "13  5072  2020-03-02  2974.280029  3090.959961  2945.189941  3090.229980   \n",
       "14  5071  2020-02-28  2916.899902  2959.719971  2855.840088  2954.219971   \n",
       "\n",
       "      adj_close      volume  \n",
       "0   2409.389893  7946710000  \n",
       "1   2398.100098  8755780000  \n",
       "2   2529.189941  8358500000  \n",
       "3   2386.129883  7781540000  \n",
       "4   2711.020020  8258670000  \n",
       "5   2480.639893  8829380000  \n",
       "6   2741.379883  7374110000  \n",
       "7   2882.229980  7635960000  \n",
       "8   2746.560059  8423050000  \n",
       "9   2972.370117  6552140000  \n",
       "10  3023.939941  5575550000  \n",
       "11  3130.120117  5035480000  \n",
       "12  3003.370117  6355940000  \n",
       "13  3090.229980  6376400000  \n",
       "14  2954.219971  8563850000  "
      ]
     },
     "execution_count": 27,
     "metadata": {},
     "output_type": "execute_result"
    }
   ],
   "source": [
    "pd.read_sql(\"SELECT * FROM sp_data_20200320 ORDER BY date DESC LIMIT 15\", con = conn).reset_index(drop = True)"
   ]
  },
  {
   "cell_type": "code",
   "execution_count": 25,
   "metadata": {},
   "outputs": [],
   "source": [
    "session = Session(engine)"
   ]
  },
  {
   "cell_type": "code",
   "execution_count": 26,
   "metadata": {},
   "outputs": [
    {
     "data": {
      "text/plain": [
       "[(datetime.date(2020, 3, 19))]"
      ]
     },
     "execution_count": 26,
     "metadata": {},
     "output_type": "execute_result"
    }
   ],
   "source": [
    "session.query(func.max(SP_Data.date)).all()"
   ]
  },
  {
   "cell_type": "code",
   "execution_count": 100,
   "metadata": {},
   "outputs": [
    {
     "data": {
      "text/plain": [
       "[(datetime.date(2007, 1, 3))]"
      ]
     },
     "execution_count": 100,
     "metadata": {},
     "output_type": "execute_result"
    }
   ],
   "source": [
    "session.query(func.min(SP_Data.date)).all()"
   ]
  }
 ],
 "metadata": {
  "kernelspec": {
   "display_name": "Python 3",
   "language": "python",
   "name": "python3"
  },
  "language_info": {
   "codemirror_mode": {
    "name": "ipython",
    "version": 3
   },
   "file_extension": ".py",
   "mimetype": "text/x-python",
   "name": "python",
   "nbconvert_exporter": "python",
   "pygments_lexer": "ipython3",
   "version": "3.7.1"
  }
 },
 "nbformat": 4,
 "nbformat_minor": 2
}
