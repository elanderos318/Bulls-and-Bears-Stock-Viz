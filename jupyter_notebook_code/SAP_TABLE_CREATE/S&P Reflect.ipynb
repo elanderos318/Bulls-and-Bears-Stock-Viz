{
 "cells": [
  {
   "cell_type": "code",
   "execution_count": 1,
   "metadata": {},
   "outputs": [],
   "source": [
    "#dependencies\n",
    "import pandas as pd\n",
    "from sqlalchemy import create_engine, func"
   ]
  },
  {
   "cell_type": "code",
   "execution_count": 2,
   "metadata": {},
   "outputs": [],
   "source": [
    "#create connection to sqlite\n",
    "engine = create_engine('sqlite:///../../db/bulls_bears.sqlite', echo=False)"
   ]
  },
  {
   "cell_type": "code",
   "execution_count": 3,
   "metadata": {},
   "outputs": [],
   "source": [
    "from sqlalchemy.ext.automap import automap_base\n",
    "Base = automap_base()"
   ]
  },
  {
   "cell_type": "code",
   "execution_count": 4,
   "metadata": {},
   "outputs": [],
   "source": [
    "Base.prepare(engine, reflect=True)"
   ]
  },
  {
   "cell_type": "code",
   "execution_count": 5,
   "metadata": {},
   "outputs": [],
   "source": [
    "SP_500 = Base.classes.sp_data_v2"
   ]
  },
  {
   "cell_type": "code",
   "execution_count": 10,
   "metadata": {},
   "outputs": [
    {
     "data": {
      "text/plain": [
       "['sp_data', 'sp_data_20200320', 'sp_data_v2']"
      ]
     },
     "execution_count": 10,
     "metadata": {},
     "output_type": "execute_result"
    }
   ],
   "source": [
    "from sqlalchemy import inspect\n",
    "# Create the inspector and connect it to the engine\n",
    "inspector = inspect(engine)\n",
    "# Collect the names of tables within the database\n",
    "inspector.get_table_names()"
   ]
  },
  {
   "cell_type": "code",
   "execution_count": 11,
   "metadata": {},
   "outputs": [
    {
     "name": "stdout",
     "output_type": "stream",
     "text": [
      "id INTEGER\n",
      "date DATE\n",
      "open FLOAT\n",
      "high FLOAT\n",
      "low FLOAT\n",
      "close FLOAT\n",
      "adj_close FLOAT\n",
      "volume INTEGER\n"
     ]
    }
   ],
   "source": [
    "# Using the inspector to print the column names within the 'tweet_data' table and its types\n",
    "columns = inspector.get_columns('sp_data_v2')\n",
    "for column in columns:\n",
    "    print(column[\"name\"], column[\"type\"])"
   ]
  },
  {
   "cell_type": "code",
   "execution_count": 6,
   "metadata": {},
   "outputs": [],
   "source": [
    "from sqlalchemy.orm import Session"
   ]
  },
  {
   "cell_type": "code",
   "execution_count": 7,
   "metadata": {},
   "outputs": [],
   "source": [
    "session = Session(engine)"
   ]
  },
  {
   "cell_type": "code",
   "execution_count": 9,
   "metadata": {},
   "outputs": [
    {
     "data": {
      "text/plain": [
       "[(datetime.date(2020, 3, 19))]"
      ]
     },
     "execution_count": 9,
     "metadata": {},
     "output_type": "execute_result"
    }
   ],
   "source": [
    "session.query(func.max(SP_500.date)).all()"
   ]
  },
  {
   "cell_type": "code",
   "execution_count": 15,
   "metadata": {},
   "outputs": [
    {
     "data": {
      "text/plain": [
       "[(datetime.date(2020, 3, 19), 2409.389893),\n",
       " (datetime.date(2020, 3, 18), 2398.100098),\n",
       " (datetime.date(2020, 3, 17), 2529.189941),\n",
       " (datetime.date(2020, 3, 16), 2386.1298829999996),\n",
       " (datetime.date(2020, 3, 13), 2711.02002),\n",
       " (datetime.date(2020, 3, 12), 2480.639893),\n",
       " (datetime.date(2020, 3, 11), 2741.3798829999996),\n",
       " (datetime.date(2020, 3, 10), 2882.22998),\n",
       " (datetime.date(2020, 3, 9), 2746.560059),\n",
       " (datetime.date(2020, 3, 6), 2972.3701170000004),\n",
       " (datetime.date(2020, 3, 5), 3023.939941),\n",
       " (datetime.date(2020, 3, 4), 3130.1201170000004),\n",
       " (datetime.date(2020, 3, 3), 3003.3701170000004),\n",
       " (datetime.date(2020, 3, 2), 3090.22998),\n",
       " (datetime.date(2020, 2, 28), 2954.219971)]"
      ]
     },
     "execution_count": 15,
     "metadata": {},
     "output_type": "execute_result"
    }
   ],
   "source": [
    "session.query(SP_500.date, SP_500.close).order_by(SP_500.date.desc()).limit(15).all()"
   ]
  },
  {
   "cell_type": "code",
   "execution_count": 16,
   "metadata": {},
   "outputs": [
    {
     "data": {
      "text/plain": [
       "[(datetime.date(2000, 1, 3), 1455.219971),\n",
       " (datetime.date(2000, 1, 4), 1399.420044),\n",
       " (datetime.date(2000, 1, 5), 1402.109985),\n",
       " (datetime.date(2000, 1, 6), 1403.449951),\n",
       " (datetime.date(2000, 1, 7), 1441.469971),\n",
       " (datetime.date(2000, 1, 10), 1457.599976),\n",
       " (datetime.date(2000, 1, 11), 1438.560059),\n",
       " (datetime.date(2000, 1, 12), 1432.25),\n",
       " (datetime.date(2000, 1, 13), 1449.680054),\n",
       " (datetime.date(2000, 1, 14), 1465.150024),\n",
       " (datetime.date(2000, 1, 18), 1455.140015),\n",
       " (datetime.date(2000, 1, 19), 1455.900024),\n",
       " (datetime.date(2000, 1, 20), 1445.569946),\n",
       " (datetime.date(2000, 1, 21), 1441.359985),\n",
       " (datetime.date(2000, 1, 24), 1401.530029)]"
      ]
     },
     "execution_count": 16,
     "metadata": {},
     "output_type": "execute_result"
    }
   ],
   "source": [
    "session.query(SP_500.date, SP_500.close).order_by(SP_500.date).limit(15).all()"
   ]
  },
  {
   "cell_type": "code",
   "execution_count": 24,
   "metadata": {},
   "outputs": [],
   "source": [
    "import datetime as dt"
   ]
  },
  {
   "cell_type": "code",
   "execution_count": 33,
   "metadata": {},
   "outputs": [
    {
     "data": {
      "text/plain": [
       "['2000-01-03', 1455.219971]"
      ]
     },
     "execution_count": 33,
     "metadata": {},
     "output_type": "execute_result"
    }
   ],
   "source": [
    "keys = (\"date\", \"close\")\n",
    "element = list(session.query(SP_500.date, SP_500.close).order_by(SP_500.date).limit(15).all()[0])\n",
    "element[0] = dt.datetime.strftime(element[0], \"%Y-%m-%d\")\n",
    "element"
   ]
  },
  {
   "cell_type": "code",
   "execution_count": 29,
   "metadata": {},
   "outputs": [
    {
     "data": {
      "text/plain": [
       "(datetime.date(2000, 1, 3), 1455.219971)"
      ]
     },
     "execution_count": 29,
     "metadata": {},
     "output_type": "execute_result"
    }
   ],
   "source": [
    "element"
   ]
  },
  {
   "cell_type": "code",
   "execution_count": 34,
   "metadata": {},
   "outputs": [
    {
     "data": {
      "text/plain": [
       "{'date': '2000-01-03', 'close': 1455.219971}"
      ]
     },
     "execution_count": 34,
     "metadata": {},
     "output_type": "execute_result"
    }
   ],
   "source": [
    "dict(zip(keys, element))"
   ]
  }
 ],
 "metadata": {
  "kernelspec": {
   "display_name": "Python 3",
   "language": "python",
   "name": "python3"
  },
  "language_info": {
   "codemirror_mode": {
    "name": "ipython",
    "version": 3
   },
   "file_extension": ".py",
   "mimetype": "text/x-python",
   "name": "python",
   "nbconvert_exporter": "python",
   "pygments_lexer": "ipython3",
   "version": "3.7.1"
  }
 },
 "nbformat": 4,
 "nbformat_minor": 2
}
